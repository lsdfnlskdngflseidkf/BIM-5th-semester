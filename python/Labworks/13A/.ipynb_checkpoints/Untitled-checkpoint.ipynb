{
 "cells": [
  {
   "cell_type": "code",
   "execution_count": null,
   "id": "7292c9a0-b568-46ff-809f-21edbc95e36d",
   "metadata": {},
   "outputs": [],
   "source": [
    "import tkinter as tk\n",
    "window=tk.Tk()\n",
    "label = tk.Label(\n",
    "    text=\"Hello, Tkinter\",\n",
    "    foreground=\"white\",  # Set the text color to white\n",
    "    background=\"black\"  # Set the background color to black\n",
    ")\n",
    "label.pack()\n",
    "window.mainloop()"
   ]
  },
  {
   "cell_type": "code",
   "execution_count": 12,
   "id": "ee00ca0d-b8e9-4f26-89f1-65fee95b03ab",
   "metadata": {},
   "outputs": [],
   "source": [
    "import tkinter as tk\n",
    "window=tk.Tk()\n",
    "label = tk.Label(\n",
    "    text=\"Hello, Tkinter\",\n",
    "    fg=\"white\",\n",
    "    bg=\"black\",\n",
    "    width=10,\n",
    "    height=10\n",
    ")\n",
    "label.pack()\n",
    "window.mainloop()"
   ]
  },
  {
   "cell_type": "code",
   "execution_count": 13,
   "id": "7d330460-d05a-46cb-8269-f25b07198336",
   "metadata": {},
   "outputs": [],
   "source": [
    "import tkinter as tk\n",
    "window=tk.Tk()\n",
    "button = tk.Button(\n",
    "    text=\"Hello, Tkinter\",\n",
    "    fg=\"white\",\n",
    "    bg=\"black\",\n",
    "    width=10,\n",
    "    height=10\n",
    ")\n",
    "button.pack()\n",
    "window.mainloop()"
   ]
  },
  {
   "cell_type": "code",
   "execution_count": 15,
   "id": "1493b8a8-bd96-47a9-afb0-a011e17e8e0e",
   "metadata": {},
   "outputs": [],
   "source": [
    "import tkinter as tk\n",
    "window=tk.Tk()\n",
    "en=tk.Entry()\n",
    "en.pack()\n",
    "window.mainloop()"
   ]
  },
  {
   "cell_type": "code",
   "execution_count": 16,
   "id": "cc0f80e3-8bad-4d4b-98ee-7c39758a53ab",
   "metadata": {},
   "outputs": [],
   "source": [
    "import tkinter as tk\n",
    "\n",
    "# Create the main window\n",
    "window = tk.Tk()\n",
    "window.title(\"Step 1: Username Entry\")\n",
    "\n",
    "# Username label and entry field, use grid to place them properly\n",
    "username_label = tk.Label(window, text=\"Username:\")\n",
    "username_label.grid(row=0,column=0)\n",
    "\n",
    "username_entry = tk.Entry(window)\n",
    "username_entry.grid(row=0,column=1)\n",
    "\n",
    "window.mainloop()\n"
   ]
  },
  {
   "cell_type": "code",
   "execution_count": 17,
   "id": "ca01b39c-8246-4c60-81c3-e86e09cdb191",
   "metadata": {},
   "outputs": [],
   "source": [
    "import tkinter as tk\n",
    "\n",
    "# Create the main window\n",
    "window = tk.Tk()\n",
    "window.title(\"Step 2: Username and Password\")\n",
    "\n",
    "# Username label and entry field\n",
    "username_label = tk.Label(window, text=\"Username:\")\n",
    "username_label.pack()\n",
    "\n",
    "username_entry = tk.Entry(window)\n",
    "username_entry.pack()\n",
    "\n",
    "# Password label and entry field (masked)\n",
    "password_label = tk.Label(window, text=\"Password:\")\n",
    "password_label.pack()\n",
    "\n",
    "password_entry = tk.Entry(window, show=\"*\")  # Hide password with asterisks\n",
    "password_entry.pack()\n",
    "\n",
    "window.mainloop()\n"
   ]
  },
  {
   "cell_type": "code",
   "execution_count": 18,
   "id": "eece3491-1b78-4356-aec9-6d21acf82ea4",
   "metadata": {},
   "outputs": [
    {
     "name": "stdout",
     "output_type": "stream",
     "text": [
      "Username: Ujwal, Password: Parajuli123\n"
     ]
    }
   ],
   "source": [
    "import tkinter as tk\n",
    "\n",
    "def submit_data():\n",
    "    username = username_entry.get()\n",
    "    password = password_entry.get()\n",
    "    print(f\"Username: {username}, Password: {password}\")\n",
    "\n",
    "# Create the main window\n",
    "window = tk.Tk()\n",
    "window.title(\"Step 3: Submit Button\")\n",
    "\n",
    "# Username label and entry field\n",
    "username_label = tk.Label(window, text=\"Username:\")\n",
    "username_label.pack()\n",
    "\n",
    "username_entry = tk.Entry(window)\n",
    "username_entry.pack()\n",
    "\n",
    "# Password label and entry field\n",
    "password_label = tk.Label(window, text=\"Password:\")\n",
    "password_label.pack()\n",
    "\n",
    "password_entry = tk.Entry(window)\n",
    "password_entry.pack()\n",
    "\n",
    "# Submit button\n",
    "submit_button = tk.Button(window, text=\"Submit\", command=submit_data)\n",
    "submit_button.pack()\n",
    "\n",
    "window.mainloop()\n"
   ]
  },
  {
   "cell_type": "code",
   "execution_count": 8,
   "id": "53e1fba9-f11a-416a-89dd-f911657f9b4f",
   "metadata": {},
   "outputs": [],
   "source": [
    "import tkinter as tk\n",
    "\n",
    "def submit_data():\n",
    "    username = username_entry.get()\n",
    "    password = password_entry.get()\n",
    "    print(f\"Username: {username}, Password: {password}\")\n",
    "\n",
    "# Create the main window\n",
    "window = tk.Tk()\n",
    "window.title(\"Step 4: Layout with Grid\")\n",
    "\n",
    "# Username label and entry field\n",
    "username_label = tk.Label(window, text=\"Username:\")\n",
    "username_label.grid(row=0, column=0)\n",
    "\n",
    "username_entry = tk.Entry(window)\n",
    "username_entry.grid(row=0, column=1)\n",
    "\n",
    "# Password label and entry field\n",
    "password_label = tk.Label(window, text=\"Password:\")\n",
    "password_label.grid(row=1, column=0)\n",
    "\n",
    "password_entry = tk.Entry(window, show=\"*\")\n",
    "password_entry.grid(row=1, column=1)\n",
    "\n",
    "# Submit button\n",
    "submit_button = tk.Button(window, text=\"Submit\", command=submit_data)\n",
    "submit_button.grid(row=2, column=0, columnspan=2)\n",
    "\n",
    "window.mainloop()\n"
   ]
  },
  {
   "cell_type": "code",
   "execution_count": 9,
   "id": "6a68b4e7-4c36-4e63-9919-da3a06327769",
   "metadata": {},
   "outputs": [],
   "source": [
    "import tkinter as tk\n",
    "from tkinter import messagebox\n",
    "\n",
    "def submit_data():\n",
    "    username = username_entry.get()  # Get the username\n",
    "    password = password_entry.get()  # Get the password\n",
    "    if username and password:\n",
    "        messagebox.showinfo(\"Login Success\", f\"Hello {username}, you have been logged in!\")\n",
    "    else:\n",
    "        messagebox.showwarning(\"Input Error\", \"Please fill in both fields!\")\n",
    "\n",
    "# Create the main window\n",
    "window = tk.Tk()\n",
    "window.title(\"Login Form\")\n",
    "\n",
    "# Username label and entry\n",
    "username_label = tk.Label(window, text=\"Username:\")\n",
    "username_label.grid(row=0, column=0, padx=10, pady=10)\n",
    "username_entry = tk.Entry(window)\n",
    "username_entry.grid(row=0, column=1, padx=10, pady=10)\n",
    "\n",
    "# Password label and entry\n",
    "password_label = tk.Label(window, text=\"Password:\")\n",
    "password_label.grid(row=1, column=0, padx=10, pady=10)\n",
    "password_entry = tk.Entry(window, show=\"*\")  # Hide password with asterisks\n",
    "password_entry.grid(row=1, column=1, padx=10, pady=10)\n",
    "\n",
    "# Submit button\n",
    "submit_button = tk.Button(window, text=\"Submit\", command=submit_data)\n",
    "submit_button.grid(row=2, column=0, columnspan=2, padx=10, pady=10)\n",
    "\n",
    "# Start the GUI event loop\n",
    "window.mainloop()\n"
   ]
  }
 ],
 "metadata": {
  "kernelspec": {
   "display_name": "Python 3 (ipykernel)",
   "language": "python",
   "name": "python3"
  },
  "language_info": {
   "codemirror_mode": {
    "name": "ipython",
    "version": 3
   },
   "file_extension": ".py",
   "mimetype": "text/x-python",
   "name": "python",
   "nbconvert_exporter": "python",
   "pygments_lexer": "ipython3",
   "version": "3.12.7"
  }
 },
 "nbformat": 4,
 "nbformat_minor": 5
}
