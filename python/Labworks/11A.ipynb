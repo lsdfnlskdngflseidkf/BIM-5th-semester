{
 "cells": [
  {
   "cell_type": "markdown",
   "id": "241d85b2-2fa9-4cac-8f07-a9a2a2bd2a11",
   "metadata": {},
   "source": [
    "### Creation of arrays in Numpy"
   ]
  },
  {
   "cell_type": "code",
   "execution_count": 5,
   "id": "69266825-b51b-45c8-bbc8-6b200ad0dfe0",
   "metadata": {},
   "outputs": [
    {
     "name": "stdout",
     "output_type": "stream",
     "text": [
      "Array from list: [ 1 23  4  5  6  7  8]\n",
      "Array of zeros: [0. 0. 0. 0. 0. 0. 0. 0. 0. 0.]\n",
      "Array of ones: [1. 1. 1. 1. 1. 1. 1. 1. 1. 1.]\n",
      "Filled array: [5 5 5 5]\n",
      "2D array of zeros: [[0. 0. 0.]\n",
      " [0. 0. 0.]]\n",
      "First array with range: [0 1 2 3 4]\n",
      "Second array with range: [1 3 5 7]\n",
      "Third array with range: [-7 -5 -3 -1  1]\n",
      "Fourth array with range: [0.4  0.55 0.7  0.85]\n"
     ]
    }
   ],
   "source": [
    "import numpy as ujwal\n",
    "\n",
    "def create_arrays():\n",
    "    # Create a 1D array from a list\n",
    "    lis = [1, 23, 4, 5, 6, 7, 8]\n",
    "    ar = ujwal.array(lis)\n",
    "    print(\"Array from list:\", ar)\n",
    "\n",
    "    # Create an array with 10 zeros\n",
    "    arr = ujwal.zeros(10)\n",
    "    print(\"Array of zeros:\", arr)\n",
    "\n",
    "    # Create an array with 10 ones\n",
    "    ones_array = ujwal.ones(10)\n",
    "    print(\"Array of ones:\", ones_array)\n",
    "\n",
    "    # Create a filled array of shape (4,) with the value 5\n",
    "    filled_array = ujwal.full((4), 5)\n",
    "    print(\"Filled array:\", filled_array)\n",
    "\n",
    "    # Create a 2D array of zeros with shape (2, 3)\n",
    "    array_2d = ujwal.zeros((2, 3))\n",
    "    print(\"2D array of zeros:\", array_2d)\n",
    "\n",
    "    # Create arrays using arange function\n",
    "    first = ujwal.arange(0, 5, 1)\n",
    "    print(\"First array with range:\", first)\n",
    "\n",
    "    sec = ujwal.arange(1, 8, 2)\n",
    "    print(\"Second array with range:\", sec)\n",
    "\n",
    "    thi = ujwal.arange(-7, 2, 2)\n",
    "    print(\"Third array with range:\", thi)\n",
    "\n",
    "    fou = ujwal.arange(0.4, 1, 0.15)\n",
    "    print(\"Fourth array with range:\", fou)\n",
    "\n",
    "if __name__ == \"__main__\":\n",
    "    create_arrays()\n"
   ]
  },
  {
   "cell_type": "markdown",
   "id": "ada1f391-f074-4c1b-8c06-ebc6a53028f2",
   "metadata": {},
   "source": [
    "### generating arrays with random values "
   ]
  },
  {
   "cell_type": "code",
   "execution_count": 6,
   "id": "e566093f-72b1-4319-b2ca-5d43889cb955",
   "metadata": {},
   "outputs": [
    {
     "name": "stdout",
     "output_type": "stream",
     "text": [
      "Random array: [96 57 92 45 21 98 28 52 24 88]\n",
      "Sorted random array: [21 24 28 45 52 57 88 92 96 98]\n",
      "Linspace array: [ 1.   2.5  4.   5.5  7.   8.5 10. ]\n",
      "3D random array: [[[0.51904869 0.22974532]\n",
      "  [0.57799907 0.92446583]]\n",
      "\n",
      " [[0.18991844 0.5328581 ]\n",
      "  [0.31135427 0.4732941 ]]]\n"
     ]
    }
   ],
   "source": [
    "import numpy as ujwal\n",
    "\n",
    "def random_arrays():\n",
    "    # Generate a random array of integers between 0 and 100 of size 10\n",
    "    random_array = ujwal.random.randint(0, 101, size=10)\n",
    "    print(\"Random array:\", random_array)\n",
    "\n",
    "    # Sort the random array\n",
    "    sorted_array = ujwal.sort(random_array)\n",
    "    print(\"Sorted random array:\", sorted_array)\n",
    "\n",
    "    # Generate another random array using linspace\n",
    "    linspace_array = ujwal.linspace(1, 10, 7)\n",
    "    print(\"Linspace array:\", linspace_array)\n",
    "\n",
    "    # Generate a 3D random array\n",
    "    random_3d_array = ujwal.random.rand(2, 2, 2)\n",
    "    print(\"3D random array:\", random_3d_array)\n",
    "\n",
    "if __name__ == \"__main__\":\n",
    "    random_arrays()\n"
   ]
  },
  {
   "cell_type": "markdown",
   "id": "486e487b-5960-4ca7-962c-2dce97ebbec4",
   "metadata": {},
   "source": [
    "### Properties of the array"
   ]
  },
  {
   "cell_type": "code",
   "execution_count": 7,
   "id": "db887b72-81ef-4c68-9c6b-82c0bd1f1f57",
   "metadata": {},
   "outputs": [
    {
     "name": "stdout",
     "output_type": "stream",
     "text": [
      "Number of dimensions: 3\n",
      "Size of the array: 8\n",
      "Data type of the array: float64\n",
      "Shape of the array: (2, 2, 2)\n",
      "Size of each item: 8\n",
      "Transposed array: [[[0.79951545 0.75874557]\n",
      "  [0.7381995  0.90337675]]\n",
      "\n",
      " [[0.7252966  0.50326437]\n",
      "  [0.10101793 0.84622239]]]\n"
     ]
    }
   ],
   "source": [
    "import numpy as ujwal\n",
    "\n",
    "def array_properties():\n",
    "    # Generate a random 3D array for property checks\n",
    "    array_example = ujwal.random.rand(2, 2, 2)\n",
    "    \n",
    "    # Print array properties\n",
    "    print(\"Number of dimensions:\", array_example.ndim)\n",
    "    print(\"Size of the array:\", array_example.size)\n",
    "    print(\"Data type of the array:\", array_example.dtype)\n",
    "    print(\"Shape of the array:\", array_example.shape)\n",
    "    print(\"Size of each item:\", array_example.itemsize)\n",
    "    \n",
    "    # Transpose the array and print\n",
    "    transposed_array = array_example.transpose()\n",
    "    print(\"Transposed array:\", transposed_array)\n",
    "\n",
    "if __name__ == \"__main__\":\n",
    "    array_properties()\n"
   ]
  },
  {
   "cell_type": "markdown",
   "id": "c8f53449-c3e9-4188-8248-be8c594cc46a",
   "metadata": {},
   "source": [
    "### Manipulating arrays,slicing and copying"
   ]
  },
  {
   "cell_type": "code",
   "execution_count": 1,
   "id": "367f6584-1eda-4ad8-9c78-1c61df4ae416",
   "metadata": {},
   "outputs": [
    {
     "name": "stdout",
     "output_type": "stream",
     "text": [
      "Iterating over array using nditer:\n",
      "0\n",
      "1\n",
      "2\n",
      "3\n",
      "4\n",
      "Random array: [98 81 61 35  4 32 22 87 94  4]\n",
      "Sorted random array: [ 4  4 22 32 35 61 81 87 94 98]\n",
      "Sorted word array: ['apple' 'banana' 'cherry' 'date' 'elderberry']\n",
      "Sorted word2 array: ['fig' 'grape' 'honeydew' 'kiwi' 'lemon']\n",
      "Median of random array: 53.0\n",
      "Random 3x3 array: [[35  5 14]\n",
      " [78 14 53]\n",
      " [10 37  6]]\n"
     ]
    }
   ],
   "source": [
    "import numpy as ujwal\n",
    "\n",
    "def array_manipulation():\n",
    "    # Create a 1D array\n",
    "    first = ujwal.arange(0, 5, 1)\n",
    "    \n",
    "    # Iterate over the array using niter\n",
    "    print(\"Iterating over array using nditer:\")\n",
    "    for x in ujwal.nditer(first):\n",
    "        print(x)\n",
    "\n",
    "    # Create a random array and sort it\n",
    "    random_array = ujwal.random.randint(0, 101, size=10)\n",
    "    print(\"Random array:\", random_array)\n",
    "\n",
    "    sorted_array = ujwal.sort(random_array)\n",
    "    print(\"Sorted random array:\", sorted_array)\n",
    "\n",
    "    # Original word lists for lexical sorting\n",
    "    word = [\"elderberry\", \"apple\", \"banana\", \"cherry\", \"date\"]\n",
    "    word2 = [\"honeydew\", \"fig\", \"grape\", \"kiwi\", \"lemon\"]\n",
    "    \n",
    "    # Convert lists to NumPy arrays\n",
    "    word_array = ujwal.array(word)\n",
    "    word2_array = ujwal.array(word2)\n",
    "\n",
    "    # Lexically sort the arrays using lexsort\n",
    "    sorted_indices_word = ujwal.lexsort([word_array])\n",
    "    sorted_indices_word2 = ujwal.lexsort([word2_array])\n",
    "\n",
    "    sorted_word = word_array[sorted_indices_word]\n",
    "    sorted_word2 = word2_array[sorted_indices_word2]\n",
    "\n",
    "    print(\"Sorted word array:\", sorted_word)\n",
    "    print(\"Sorted word2 array:\", sorted_word2)\n",
    "\n",
    "    # Generate a random array for median calculation\n",
    "    random_for_median = ujwal.random.randint(0, 101, size=10)\n",
    "    median_value = ujwal.median(random_for_median)\n",
    "    print(\"Median of random array:\", median_value)\n",
    "\n",
    "    # Create a random 3x3 array for demonstration\n",
    "    ranarr = ujwal.random.randint(1, 100, size=(3, 3))\n",
    "    print(\"Random 3x3 array:\", ranarr)\n",
    "\n",
    "if __name__ == \"__main__\":\n",
    "    array_manipulation()\n"
   ]
  },
  {
   "cell_type": "markdown",
   "id": "0eed5c4b-2f63-4316-9df8-e67a0a5f49ec",
   "metadata": {},
   "source": [
    "### element wise addition in numpy "
   ]
  },
  {
   "cell_type": "code",
   "execution_count": 11,
   "id": "46fa2709-9304-4107-b743-07fc84ba68a3",
   "metadata": {},
   "outputs": [
    {
     "name": "stdout",
     "output_type": "stream",
     "text": [
      "Summed array:\n",
      "[2 3 4]\n",
      "[3 4 5]\n",
      "[4 5 6]\n"
     ]
    }
   ],
   "source": [
    "import numpy as ujwal\n",
    "\n",
    "def elementwise_operations():\n",
    "    # Create two 1D arrays for element-wise addition\n",
    "    array1 = ujwal.array([1, 2, 3])\n",
    "    array2 = ujwal.array([[1], [2], [3]])\n",
    "\n",
    "    # Element-wise addition\n",
    "    summed = array1 + array2\n",
    "\n",
    "    # Print the result\n",
    "    print(\"Summed array:\")\n",
    "    for x in summed:\n",
    "        print(x)\n",
    "\n",
    "if __name__ == \"__main__\":\n",
    "    elementwise_operations()\n"
   ]
  },
  {
   "cell_type": "markdown",
   "id": "366a6f2f-80f8-45d9-baee-760096d09364",
   "metadata": {},
   "source": [
    "### Array Broadcasting"
   ]
  },
  {
   "cell_type": "code",
   "execution_count": 13,
   "id": "df4713f6-751a-4103-b1fb-ab9f53e49423",
   "metadata": {},
   "outputs": [
    {
     "name": "stdout",
     "output_type": "stream",
     "text": [
      "Summed array (element-wise addition):\n",
      "[2 3 4]\n",
      "[3 4 5]\n",
      "[4 5 6]\n",
      "Result of broadcasting (adding scalar to array): [11 12 13]\n"
     ]
    }
   ],
   "source": [
    "import numpy as ujwal\n",
    "\n",
    "def elementwise_operations():\n",
    "    # Create two 1D arrays for element-wise addition\n",
    "    array1 = ujwal.array([1, 2, 3])\n",
    "    array2 = ujwal.array([[1], [2], [3]])  # 2D array with shape (3, 1)\n",
    "\n",
    "    # Element-wise addition\n",
    "    summed = array1 + array2\n",
    "\n",
    "    # Print the result of element-wise addition\n",
    "    print(\"Summed array (element-wise addition):\")\n",
    "    for x in summed:\n",
    "        print(x)\n",
    "\n",
    "    # Example of array broadcasting\n",
    "    scalar_value = 10\n",
    "    broadcasted_result = array1 + scalar_value  # Adding a scalar to the 1D array\n",
    "\n",
    "    # Print the result of broadcasting\n",
    "    print(\"Result of broadcasting (adding scalar to array):\", broadcasted_result)\n",
    "\n",
    "if __name__ == \"__main__\":\n",
    "    elementwise_operations()\n"
   ]
  }
 ],
 "metadata": {
  "kernelspec": {
   "display_name": "Python 3 (ipykernel)",
   "language": "python",
   "name": "python3"
  },
  "language_info": {
   "codemirror_mode": {
    "name": "ipython",
    "version": 3
   },
   "file_extension": ".py",
   "mimetype": "text/x-python",
   "name": "python",
   "nbconvert_exporter": "python",
   "pygments_lexer": "ipython3",
   "version": "3.12.7"
  }
 },
 "nbformat": 4,
 "nbformat_minor": 5
}
