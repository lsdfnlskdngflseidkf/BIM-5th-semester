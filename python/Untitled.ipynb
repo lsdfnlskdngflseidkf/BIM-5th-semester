{
 "cells": [
  {
   "cell_type": "code",
   "execution_count": 1,
   "id": "e82bbf0f-32f5-4dd5-8d02-03ef7cc516ea",
   "metadata": {},
   "outputs": [
    {
     "name": "stdout",
     "output_type": "stream",
     "text": [
      "Total number of changes to the database are 4\n",
      "[('ujwal', 20), ('Nilesh', 21), ('Ronish', 19), ('Dikesh', 22)]\n"
     ]
    }
   ],
   "source": [
    "#no shit sherlock\n",
    "import sqlite3\n",
    "\n",
    "conn=sqlite3.connect('test.db')\n",
    "cursor=conn.cursor()\n",
    "\n",
    "b=\"drop table if exists people;\"\n",
    "cursor.execute(b)\n",
    "\n",
    "cursor.execute(\"\"\"\n",
    "create table if not exists people(\n",
    "name text,\n",
    "age integer\n",
    ")\n",
    "\"\"\")\n",
    "cursor.execute(\"\"\"\n",
    "insert into people values('ujwal',20),('Nilesh',21),('Ronish',19),('Dikesh',22)\n",
    "\"\"\")\n",
    "print(f\"Total number of changes to the database are {conn.total_changes}\")\n",
    "cursor.execute(\"\"\"\n",
    "select * from people\n",
    "\"\"\")\n",
    "rows=cursor.fetchall()\n",
    "print(rows)\n",
    "\n",
    "conn.commit()\n",
    "conn.close()\n"
   ]
  },
  {
   "cell_type": "code",
   "execution_count": 2,
   "id": "fe447edd-5311-4c7d-b01e-3f0df807ab29",
   "metadata": {},
   "outputs": [
    {
     "name": "stdout",
     "output_type": "stream",
     "text": [
      "Total number of changes to the database are 4\n",
      "[('ujwal', 20), ('Nilesh', 21), ('Ronish', 19), ('Dikesh', 22)]\n",
      "('ujwal', 22)\n",
      "('Nilesh', 21)\n",
      "('Ronish', 19)\n",
      "('Dikesh', 22)\n",
      "After oofing ronish from the database\n",
      "('ujwal', 22)\n",
      "('Nilesh', 21)\n",
      "('Ronish', 19)\n",
      "('Dikesh', 22)\n"
     ]
    }
   ],
   "source": [
    "import sqlite3\n",
    "conn=sqlite3.connect('test.db')\n",
    "cursor=conn.cursor()\n",
    "b=\"drop table if exists people;\"\n",
    "cursor.execute(b)\n",
    "cursor.execute(\"\"\"\n",
    "create table if not exists people(\n",
    "name text,\n",
    "age integer\n",
    ");\n",
    "\"\"\")\n",
    "cursor.execute(\"\"\"\n",
    "insert into people values('ujwal',20),('Nilesh',21),('Ronish',19),('Dikesh',22);\n",
    "\"\"\")\n",
    "print(f\"Total number of changes to the database are {conn.total_changes}\")\n",
    "sel=\"\"\"\n",
    "select * from people;\n",
    "\"\"\"\n",
    "cursor.execute(sel)\n",
    "rows=cursor.fetchall()\n",
    "print(rows)\n",
    "updque=\"\"\"\n",
    "update people set age=22 where name='ujwal';\n",
    "\"\"\"\n",
    "cursor.execute(updque)\n",
    "rows=cursor.execute(sel)\n",
    "for i in rows:\n",
    "    print(i)\n",
    "#deleting rows\n",
    "deleter=\"\"\"\n",
    "delete from people where age=19;\n",
    "\"\"\"\n",
    "print(\"After oofing ronish from the database\")\n",
    "rows=cursor.execute(sel)\n",
    "for i in rows:\n",
    "    print(i)\n",
    "conn.commit()\n",
    "conn.close()"
   ]
  }
 ],
 "metadata": {
  "kernelspec": {
   "display_name": "Python 3 (ipykernel)",
   "language": "python",
   "name": "python3"
  },
  "language_info": {
   "codemirror_mode": {
    "name": "ipython",
    "version": 3
   },
   "file_extension": ".py",
   "mimetype": "text/x-python",
   "name": "python",
   "nbconvert_exporter": "python",
   "pygments_lexer": "ipython3",
   "version": "3.12.7"
  }
 },
 "nbformat": 4,
 "nbformat_minor": 5
}
