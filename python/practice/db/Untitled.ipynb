{
 "cells": [
  {
   "cell_type": "code",
   "execution_count": 1,
   "id": "d3c4ac4e-a63b-40b7-a244-c5d0ab10ab02",
   "metadata": {},
   "outputs": [
    {
     "name": "stdout",
     "output_type": "stream",
     "text": [
      "Total number of changes to the database are 4\n",
      "[('ujwal', 20), ('Nilesh', 21), ('Ronish', 19), ('Dikesh', 22)]\n"
     ]
    }
   ],
   "source": [
    "import sqlite3\n",
    "\n",
    "conn=sqlite3.connect('test.db')\n",
    "cursor=conn.cursor()\n",
    "\n",
    "b=\"drop table if exists people;\"\n",
    "cursor.execute(b)\n",
    "\n",
    "cursor.execute(\"\"\"\n",
    "create table if not exists people(\n",
    "name text,\n",
    "age integer\n",
    ")\n",
    "\"\"\")\n",
    "cursor.execute(\"\"\"\n",
    "insert into people values('ujwal',20),('Nilesh',21),('Ronish',19),('Dikesh',22)\n",
    "\"\"\")\n",
    "print(f\"Total number of changes to the database are {conn.total_changes}\")\n",
    "cursor.execute(\"\"\"\n",
    "select * from people\n",
    "\"\"\")\n",
    "rows=cursor.fetchall()\n",
    "print(rows)\n",
    "\n",
    "conn.commit()\n",
    "conn.close()\n"
   ]
  },
  {
   "cell_type": "code",
   "execution_count": null,
   "id": "fa39e869-4aed-4879-940c-a2da94c8f55e",
   "metadata": {},
   "outputs": [],
   "source": []
  }
 ],
 "metadata": {
  "kernelspec": {
   "display_name": "Python 3 (ipykernel)",
   "language": "python",
   "name": "python3"
  },
  "language_info": {
   "codemirror_mode": {
    "name": "ipython",
    "version": 3
   },
   "file_extension": ".py",
   "mimetype": "text/x-python",
   "name": "python",
   "nbconvert_exporter": "python",
   "pygments_lexer": "ipython3",
   "version": "3.12.5"
  }
 },
 "nbformat": 4,
 "nbformat_minor": 5
}
