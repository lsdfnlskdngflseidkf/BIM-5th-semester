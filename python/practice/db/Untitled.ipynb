{
 "cells": [
  {
   "cell_type": "code",
   "execution_count": 8,
   "id": "d3c4ac4e-a63b-40b7-a244-c5d0ab10ab02",
   "metadata": {},
   "outputs": [
    {
     "ename": "OperationalError",
     "evalue": "database is locked",
     "output_type": "error",
     "traceback": [
      "\u001b[1;31m---------------------------------------------------------------------------\u001b[0m",
      "\u001b[1;31mOperationalError\u001b[0m                          Traceback (most recent call last)",
      "Cell \u001b[1;32mIn[8], line 7\u001b[0m\n\u001b[0;32m      4\u001b[0m cursor\u001b[38;5;241m=\u001b[39mconn\u001b[38;5;241m.\u001b[39mcursor()\n\u001b[0;32m      6\u001b[0m b\u001b[38;5;241m=\u001b[39m\u001b[38;5;124m\"\u001b[39m\u001b[38;5;124mdrop table if exists people;\u001b[39m\u001b[38;5;124m\"\u001b[39m\n\u001b[1;32m----> 7\u001b[0m \u001b[43mcursor\u001b[49m\u001b[38;5;241;43m.\u001b[39;49m\u001b[43mexecute\u001b[49m\u001b[43m(\u001b[49m\u001b[43mb\u001b[49m\u001b[43m)\u001b[49m\n\u001b[0;32m      9\u001b[0m cursor\u001b[38;5;241m.\u001b[39mexecute(\u001b[38;5;124m\"\"\"\u001b[39m\n\u001b[0;32m     10\u001b[0m \u001b[38;5;124mcreate table if not exists people(\u001b[39m\n\u001b[0;32m     11\u001b[0m \u001b[38;5;124mname text,\u001b[39m\n\u001b[0;32m     12\u001b[0m \u001b[38;5;124mage integer\u001b[39m\n\u001b[0;32m     13\u001b[0m \u001b[38;5;124m)\u001b[39m\n\u001b[0;32m     14\u001b[0m \u001b[38;5;124m\"\"\"\u001b[39m)\n\u001b[0;32m     15\u001b[0m cursor\u001b[38;5;241m.\u001b[39mexecute(\u001b[38;5;124m\"\"\"\u001b[39m\n\u001b[0;32m     16\u001b[0m \u001b[38;5;124minsert into people values(\u001b[39m\u001b[38;5;124m'\u001b[39m\u001b[38;5;124mujwal\u001b[39m\u001b[38;5;124m'\u001b[39m\u001b[38;5;124m,20),(\u001b[39m\u001b[38;5;124m'\u001b[39m\u001b[38;5;124mNilesh\u001b[39m\u001b[38;5;124m'\u001b[39m\u001b[38;5;124m,21),(\u001b[39m\u001b[38;5;124m'\u001b[39m\u001b[38;5;124mRonish\u001b[39m\u001b[38;5;124m'\u001b[39m\u001b[38;5;124m,19),(\u001b[39m\u001b[38;5;124m'\u001b[39m\u001b[38;5;124mDikesh\u001b[39m\u001b[38;5;124m'\u001b[39m\u001b[38;5;124m,22)\u001b[39m\n\u001b[0;32m     17\u001b[0m \u001b[38;5;124m\"\"\"\u001b[39m)\n",
      "\u001b[1;31mOperationalError\u001b[0m: database is locked"
     ]
    }
   ],
   "source": [
    "import sqlite3\n",
    "\n",
    "conn=sqlite3.connect('test.db')\n",
    "cursor=conn.cursor()\n",
    "\n",
    "b=\"drop table if exists people;\"\n",
    "cursor.execute(b)\n",
    "\n",
    "cursor.execute(\"\"\"\n",
    "create table if not exists people(\n",
    "name text,\n",
    "age integer\n",
    ")\n",
    "\"\"\")\n",
    "cursor.execute(\"\"\"\n",
    "insert into people values('ujwal',20),('Nilesh',21),('Ronish',19),('Dikesh',22)\n",
    "\"\"\")\n",
    "print(f\"Total number of changes to the database are {conn.total_changes}\")\n",
    "cursor.execute(\"\"\"\n",
    "select * from people\n",
    "\"\"\")\n",
    "rows=cursor.fetchall()\n",
    "print(rows)\n",
    "\n",
    "conn.commit()\n",
    "conn.close()\n"
   ]
  },
  {
   "cell_type": "code",
   "execution_count": null,
   "id": "fa39e869-4aed-4879-940c-a2da94c8f55e",
   "metadata": {},
   "outputs": [],
   "source": []
  }
 ],
 "metadata": {
  "kernelspec": {
   "display_name": "Python 3 (ipykernel)",
   "language": "python",
   "name": "python3"
  },
  "language_info": {
   "codemirror_mode": {
    "name": "ipython",
    "version": 3
   },
   "file_extension": ".py",
   "mimetype": "text/x-python",
   "name": "python",
   "nbconvert_exporter": "python",
   "pygments_lexer": "ipython3",
   "version": "3.11.5"
  }
 },
 "nbformat": 4,
 "nbformat_minor": 5
}
