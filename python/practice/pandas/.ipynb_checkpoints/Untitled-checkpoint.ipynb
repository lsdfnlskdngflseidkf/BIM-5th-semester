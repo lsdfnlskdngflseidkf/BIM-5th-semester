{
 "cells": [
  {
   "cell_type": "code",
   "execution_count": 3,
   "id": "3c35ce1f-5e1c-49c3-a3bb-94627e0e755c",
   "metadata": {},
   "outputs": [
    {
     "name": "stdout",
     "output_type": "stream",
     "text": [
      "Numpy array is [51 92 14 71 60 20 82 86 74 74]\n",
      "0    51\n",
      "1    92\n",
      "2    14\n",
      "3    71\n",
      "4    60\n",
      "5    20\n",
      "6    82\n",
      "7    86\n",
      "8    74\n",
      "9    74\n",
      "dtype: int32\n"
     ]
    }
   ],
   "source": [
    "import numpy as np\n",
    "import pandas as pd\n",
    "np.random.seed(42)\n",
    "this=np.random.randint(0, 101, size=10)\n",
    "print(f\"Numpy array is {this}\")\n",
    "that=pd.Series(this)\n",
    "print(that)"
   ]
  },
  {
   "cell_type": "code",
   "execution_count": 5,
   "id": "c0e62525-a2ed-4709-ab69-7f5c12737014",
   "metadata": {},
   "outputs": [
    {
     "name": "stdout",
     "output_type": "stream",
     "text": [
      "0        Apple\n",
      "1        Tesla\n",
      "2    Persimmon\n",
      "3       Adidas\n",
      "dtype: object\n"
     ]
    }
   ],
   "source": [
    "import pandas as pd\n",
    "ls=[\"Apple\",\"Tesla\",\"Persimmon\",\"Adidas\"]\n",
    "l=pd.Series(ls)\n",
    "print(l)"
   ]
  },
  {
   "cell_type": "code",
   "execution_count": 9,
   "id": "6b464878-3a49-4f77-b662-6dfa230657cd",
   "metadata": {},
   "outputs": [
    {
     "name": "stdout",
     "output_type": "stream",
     "text": [
      "A        Apple\n",
      "B        Tesla\n",
      "C    Persimmon\n",
      "D       Adidas\n",
      "dtype: object\n"
     ]
    }
   ],
   "source": [
    "import pandas as pd\n",
    "ls=[\"Apple\",\"Tesla\",\"Persimmon\",\"Adidas\"]\n",
    "x = pd.Series(ls, index = [\"A\", \"B\", \"C\",\"D\"])\n",
    "print(x)"
   ]
  },
  {
   "cell_type": "code",
   "execution_count": 12,
   "id": "bcbc1b8a-2a07-4f05-9356-0cfc9f9596cc",
   "metadata": {},
   "outputs": [
    {
     "name": "stdout",
     "output_type": "stream",
     "text": [
      "Apple\n"
     ]
    }
   ],
   "source": [
    "import pandas as pd\n",
    "ls=[\"Apple\",\"Tesla\",\"Persimmon\",\"Adidas\"]\n",
    "x = pd.Series(ls, index = [\"A\", \"B\", \"C\",\"D\"])\n",
    "print(x.iloc[0])"
   ]
  },
  {
   "cell_type": "code",
   "execution_count": 13,
   "id": "e6126377-fb59-4eb2-846b-77cbbfe9e27b",
   "metadata": {},
   "outputs": [
    {
     "name": "stdout",
     "output_type": "stream",
     "text": [
      "A        Apple\n",
      "B        Tesla\n",
      "C    Persimmon\n",
      "dtype: object\n"
     ]
    }
   ],
   "source": [
    "import pandas as pd\n",
    "ls=[\"Apple\",\"Tesla\",\"Persimmon\",\"Adidas\"]\n",
    "x = pd.Series(ls, index = [\"A\", \"B\", \"C\",\"D\"])\n",
    "print(x.iloc[0:3])"
   ]
  },
  {
   "cell_type": "code",
   "execution_count": 16,
   "id": "ca3cd0f9-157e-43ac-9087-061d739488a0",
   "metadata": {},
   "outputs": [
    {
     "name": "stdout",
     "output_type": "stream",
     "text": [
      "Apple\n"
     ]
    }
   ],
   "source": [
    "import pandas as pd\n",
    "ls=[\"Apple\",\"Tesla\",\"Persimmon\",\"Adidas\"]\n",
    "x = pd.Series(ls, index = [\"A\", \"B\", \"C\",\"D\"])\n",
    "print(x.loc[\"A\"])"
   ]
  },
  {
   "cell_type": "code",
   "execution_count": 19,
   "id": "1ef03d64-876a-46d5-9650-8d32592ec6ed",
   "metadata": {},
   "outputs": [
    {
     "data": {
      "text/html": [
       "<div>\n",
       "<style scoped>\n",
       "    .dataframe tbody tr th:only-of-type {\n",
       "        vertical-align: middle;\n",
       "    }\n",
       "\n",
       "    .dataframe tbody tr th {\n",
       "        vertical-align: top;\n",
       "    }\n",
       "\n",
       "    .dataframe thead th {\n",
       "        text-align: right;\n",
       "    }\n",
       "</style>\n",
       "<table border=\"1\" class=\"dataframe\">\n",
       "  <thead>\n",
       "    <tr style=\"text-align: right;\">\n",
       "      <th></th>\n",
       "      <th>Numbers</th>\n",
       "    </tr>\n",
       "  </thead>\n",
       "  <tbody>\n",
       "    <tr>\n",
       "      <th>0</th>\n",
       "      <td>51</td>\n",
       "    </tr>\n",
       "    <tr>\n",
       "      <th>1</th>\n",
       "      <td>92</td>\n",
       "    </tr>\n",
       "    <tr>\n",
       "      <th>2</th>\n",
       "      <td>14</td>\n",
       "    </tr>\n",
       "    <tr>\n",
       "      <th>3</th>\n",
       "      <td>71</td>\n",
       "    </tr>\n",
       "    <tr>\n",
       "      <th>4</th>\n",
       "      <td>60</td>\n",
       "    </tr>\n",
       "    <tr>\n",
       "      <th>5</th>\n",
       "      <td>20</td>\n",
       "    </tr>\n",
       "    <tr>\n",
       "      <th>6</th>\n",
       "      <td>82</td>\n",
       "    </tr>\n",
       "    <tr>\n",
       "      <th>7</th>\n",
       "      <td>86</td>\n",
       "    </tr>\n",
       "    <tr>\n",
       "      <th>8</th>\n",
       "      <td>74</td>\n",
       "    </tr>\n",
       "    <tr>\n",
       "      <th>9</th>\n",
       "      <td>74</td>\n",
       "    </tr>\n",
       "  </tbody>\n",
       "</table>\n",
       "</div>"
      ],
      "text/plain": [
       "   Numbers\n",
       "0       51\n",
       "1       92\n",
       "2       14\n",
       "3       71\n",
       "4       60\n",
       "5       20\n",
       "6       82\n",
       "7       86\n",
       "8       74\n",
       "9       74"
      ]
     },
     "execution_count": 19,
     "metadata": {},
     "output_type": "execute_result"
    }
   ],
   "source": [
    "import pandas as pd\n",
    "import numpy as np\n",
    "np.random.seed(42)\n",
    "this=np.random.randint(0, 101, size=10)\n",
    "fl=pd.DataFrame(this,columns=['Numbers'])\n",
    "fl     "
   ]
  },
  {
   "cell_type": "code",
   "execution_count": 20,
   "id": "c26bccc6-fad6-421b-9aaf-9c638f705b5d",
   "metadata": {},
   "outputs": [
    {
     "name": "stderr",
     "output_type": "stream",
     "text": [
      "<>:2: SyntaxWarning: list indices must be integers or slices, not tuple; perhaps you missed a comma?\n",
      "<>:2: SyntaxWarning: list indices must be integers or slices, not tuple; perhaps you missed a comma?\n",
      "C:\\Users\\hp\\AppData\\Local\\Temp\\ipykernel_7312\\2698366077.py:2: SyntaxWarning: list indices must be integers or slices, not tuple; perhaps you missed a comma?\n",
      "  dat=[[\"Dikesh\",12][\"Ronish\",31],[\"Ujwal\",40]]\n"
     ]
    },
    {
     "ename": "TypeError",
     "evalue": "list indices must be integers or slices, not tuple",
     "output_type": "error",
     "traceback": [
      "\u001b[1;31m---------------------------------------------------------------------------\u001b[0m",
      "\u001b[1;31mTypeError\u001b[0m                                 Traceback (most recent call last)",
      "Cell \u001b[1;32mIn[20], line 2\u001b[0m\n\u001b[0;32m      1\u001b[0m \u001b[38;5;28;01mimport\u001b[39;00m \u001b[38;5;21;01mpandas\u001b[39;00m \u001b[38;5;28;01mas\u001b[39;00m \u001b[38;5;21;01mpd\u001b[39;00m\n\u001b[1;32m----> 2\u001b[0m dat\u001b[38;5;241m=\u001b[39m[\u001b[43m[\u001b[49m\u001b[38;5;124;43m\"\u001b[39;49m\u001b[38;5;124;43mDikesh\u001b[39;49m\u001b[38;5;124;43m\"\u001b[39;49m\u001b[43m,\u001b[49m\u001b[38;5;241;43m12\u001b[39;49m\u001b[43m]\u001b[49m\u001b[43m[\u001b[49m\u001b[38;5;124;43m\"\u001b[39;49m\u001b[38;5;124;43mRonish\u001b[39;49m\u001b[38;5;124;43m\"\u001b[39;49m\u001b[43m,\u001b[49m\u001b[38;5;241;43m31\u001b[39;49m\u001b[43m]\u001b[49m,[\u001b[38;5;124m\"\u001b[39m\u001b[38;5;124mUjwal\u001b[39m\u001b[38;5;124m\"\u001b[39m,\u001b[38;5;241m40\u001b[39m]]\n\u001b[0;32m      3\u001b[0m df\u001b[38;5;241m=\u001b[39mpd\u001b[38;5;241m.\u001b[39mDataFrame(dat,columns\u001b[38;5;241m=\u001b[39m[\u001b[38;5;124m\"\u001b[39m\u001b[38;5;124mName\u001b[39m\u001b[38;5;124m\"\u001b[39m,\u001b[38;5;124m\"\u001b[39m\u001b[38;5;124mRoll\u001b[39m\u001b[38;5;124m\"\u001b[39m])\n\u001b[0;32m      4\u001b[0m df\n",
      "\u001b[1;31mTypeError\u001b[0m: list indices must be integers or slices, not tuple"
     ]
    }
   ],
   "source": [
    "import pandas as pd\n",
    "dat=[[\"Dikesh\",12][\"Ronish\",31],[\"Ujwal\",40]]\n",
    "df=pd.DataFrame(dat,columns=[\"Name\",\"Roll\"])\n",
    "df"
   ]
  },
  {
   "cell_type": "code",
   "execution_count": null,
   "id": "eeb78b13-d76e-4925-8e46-22dd55f17a3c",
   "metadata": {},
   "outputs": [],
   "source": []
  }
 ],
 "metadata": {
  "kernelspec": {
   "display_name": "Python 3 (ipykernel)",
   "language": "python",
   "name": "python3"
  },
  "language_info": {
   "codemirror_mode": {
    "name": "ipython",
    "version": 3
   },
   "file_extension": ".py",
   "mimetype": "text/x-python",
   "name": "python",
   "nbconvert_exporter": "python",
   "pygments_lexer": "ipython3",
   "version": "3.11.5"
  }
 },
 "nbformat": 4,
 "nbformat_minor": 5
}
