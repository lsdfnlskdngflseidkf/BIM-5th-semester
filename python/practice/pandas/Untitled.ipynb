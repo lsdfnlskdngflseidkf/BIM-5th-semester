{
 "cells": [
  {
   "cell_type": "code",
   "execution_count": 3,
   "id": "3c35ce1f-5e1c-49c3-a3bb-94627e0e755c",
   "metadata": {},
   "outputs": [
    {
     "name": "stdout",
     "output_type": "stream",
     "text": [
      "Numpy array is [51 92 14 71 60 20 82 86 74 74]\n",
      "0    51\n",
      "1    92\n",
      "2    14\n",
      "3    71\n",
      "4    60\n",
      "5    20\n",
      "6    82\n",
      "7    86\n",
      "8    74\n",
      "9    74\n",
      "dtype: int32\n"
     ]
    }
   ],
   "source": [
    "import numpy as np\n",
    "import pandas as pd\n",
    "np.random.seed(42)\n",
    "this=np.random.randint(0, 101, size=10)\n",
    "print(f\"Numpy array is {this}\")\n",
    "that=pd.Series(this)\n",
    "print(that)"
   ]
  },
  {
   "cell_type": "code",
   "execution_count": 5,
   "id": "c0e62525-a2ed-4709-ab69-7f5c12737014",
   "metadata": {},
   "outputs": [
    {
     "name": "stdout",
     "output_type": "stream",
     "text": [
      "0        Apple\n",
      "1        Tesla\n",
      "2    Persimmon\n",
      "3       Adidas\n",
      "dtype: object\n"
     ]
    }
   ],
   "source": [
    "import pandas as pd\n",
    "ls=[\"Apple\",\"Tesla\",\"Persimmon\",\"Adidas\"]\n",
    "l=pd.Series(ls)\n",
    "print(l)"
   ]
  },
  {
   "cell_type": "code",
   "execution_count": 9,
   "id": "6b464878-3a49-4f77-b662-6dfa230657cd",
   "metadata": {},
   "outputs": [
    {
     "name": "stdout",
     "output_type": "stream",
     "text": [
      "A        Apple\n",
      "B        Tesla\n",
      "C    Persimmon\n",
      "D       Adidas\n",
      "dtype: object\n"
     ]
    }
   ],
   "source": [
    "import pandas as pd\n",
    "ls=[\"Apple\",\"Tesla\",\"Persimmon\",\"Adidas\"]\n",
    "x = pd.Series(ls, index = [\"A\", \"B\", \"C\",\"D\"])\n",
    "print(x)"
   ]
  },
  {
   "cell_type": "code",
   "execution_count": 12,
   "id": "bcbc1b8a-2a07-4f05-9356-0cfc9f9596cc",
   "metadata": {},
   "outputs": [
    {
     "name": "stdout",
     "output_type": "stream",
     "text": [
      "Apple\n"
     ]
    }
   ],
   "source": [
    "import pandas as pd\n",
    "ls=[\"Apple\",\"Tesla\",\"Persimmon\",\"Adidas\"]\n",
    "x = pd.Series(ls, index = [\"A\", \"B\", \"C\",\"D\"])\n",
    "print(x.iloc[0])"
   ]
  },
  {
   "cell_type": "code",
   "execution_count": 13,
   "id": "e6126377-fb59-4eb2-846b-77cbbfe9e27b",
   "metadata": {},
   "outputs": [
    {
     "name": "stdout",
     "output_type": "stream",
     "text": [
      "A        Apple\n",
      "B        Tesla\n",
      "C    Persimmon\n",
      "dtype: object\n"
     ]
    }
   ],
   "source": [
    "import pandas as pd\n",
    "ls=[\"Apple\",\"Tesla\",\"Persimmon\",\"Adidas\"]\n",
    "x = pd.Series(ls, index = [\"A\", \"B\", \"C\",\"D\"])\n",
    "print(x.iloc[0:3])"
   ]
  },
  {
   "cell_type": "code",
   "execution_count": 16,
   "id": "ca3cd0f9-157e-43ac-9087-061d739488a0",
   "metadata": {},
   "outputs": [
    {
     "name": "stdout",
     "output_type": "stream",
     "text": [
      "Apple\n"
     ]
    }
   ],
   "source": [
    "import pandas as pd\n",
    "ls=[\"Apple\",\"Tesla\",\"Persimmon\",\"Adidas\"]\n",
    "x = pd.Series(ls, index = [\"A\", \"B\", \"C\",\"D\"])\n",
    "print(x.loc[\"A\"])"
   ]
  },
  {
   "cell_type": "code",
   "execution_count": 19,
   "id": "1ef03d64-876a-46d5-9650-8d32592ec6ed",
   "metadata": {},
   "outputs": [
    {
     "data": {
      "text/html": [
       "<div>\n",
       "<style scoped>\n",
       "    .dataframe tbody tr th:only-of-type {\n",
       "        vertical-align: middle;\n",
       "    }\n",
       "\n",
       "    .dataframe tbody tr th {\n",
       "        vertical-align: top;\n",
       "    }\n",
       "\n",
       "    .dataframe thead th {\n",
       "        text-align: right;\n",
       "    }\n",
       "</style>\n",
       "<table border=\"1\" class=\"dataframe\">\n",
       "  <thead>\n",
       "    <tr style=\"text-align: right;\">\n",
       "      <th></th>\n",
       "      <th>Numbers</th>\n",
       "    </tr>\n",
       "  </thead>\n",
       "  <tbody>\n",
       "    <tr>\n",
       "      <th>0</th>\n",
       "      <td>51</td>\n",
       "    </tr>\n",
       "    <tr>\n",
       "      <th>1</th>\n",
       "      <td>92</td>\n",
       "    </tr>\n",
       "    <tr>\n",
       "      <th>2</th>\n",
       "      <td>14</td>\n",
       "    </tr>\n",
       "    <tr>\n",
       "      <th>3</th>\n",
       "      <td>71</td>\n",
       "    </tr>\n",
       "    <tr>\n",
       "      <th>4</th>\n",
       "      <td>60</td>\n",
       "    </tr>\n",
       "    <tr>\n",
       "      <th>5</th>\n",
       "      <td>20</td>\n",
       "    </tr>\n",
       "    <tr>\n",
       "      <th>6</th>\n",
       "      <td>82</td>\n",
       "    </tr>\n",
       "    <tr>\n",
       "      <th>7</th>\n",
       "      <td>86</td>\n",
       "    </tr>\n",
       "    <tr>\n",
       "      <th>8</th>\n",
       "      <td>74</td>\n",
       "    </tr>\n",
       "    <tr>\n",
       "      <th>9</th>\n",
       "      <td>74</td>\n",
       "    </tr>\n",
       "  </tbody>\n",
       "</table>\n",
       "</div>"
      ],
      "text/plain": [
       "   Numbers\n",
       "0       51\n",
       "1       92\n",
       "2       14\n",
       "3       71\n",
       "4       60\n",
       "5       20\n",
       "6       82\n",
       "7       86\n",
       "8       74\n",
       "9       74"
      ]
     },
     "execution_count": 19,
     "metadata": {},
     "output_type": "execute_result"
    }
   ],
   "source": [
    "import pandas as pd\n",
    "import numpy as np\n",
    "np.random.seed(42)\n",
    "this=np.random.randint(0, 101, size=10)\n",
    "fl=pd.DataFrame(this,columns=['Numbers'])\n",
    "fl     "
   ]
  },
  {
   "cell_type": "code",
   "execution_count": 17,
   "id": "c26bccc6-fad6-421b-9aaf-9c638f705b5d",
   "metadata": {},
   "outputs": [
    {
     "data": {
      "text/html": [
       "<div>\n",
       "<style scoped>\n",
       "    .dataframe tbody tr th:only-of-type {\n",
       "        vertical-align: middle;\n",
       "    }\n",
       "\n",
       "    .dataframe tbody tr th {\n",
       "        vertical-align: top;\n",
       "    }\n",
       "\n",
       "    .dataframe thead th {\n",
       "        text-align: right;\n",
       "    }\n",
       "</style>\n",
       "<table border=\"1\" class=\"dataframe\">\n",
       "  <thead>\n",
       "    <tr style=\"text-align: right;\">\n",
       "      <th></th>\n",
       "      <th>Name</th>\n",
       "      <th>Roll</th>\n",
       "    </tr>\n",
       "  </thead>\n",
       "  <tbody>\n",
       "    <tr>\n",
       "      <th>0</th>\n",
       "      <td>Dikesh</td>\n",
       "      <td>12</td>\n",
       "    </tr>\n",
       "    <tr>\n",
       "      <th>1</th>\n",
       "      <td>Ronish</td>\n",
       "      <td>31</td>\n",
       "    </tr>\n",
       "    <tr>\n",
       "      <th>2</th>\n",
       "      <td>Ujwal</td>\n",
       "      <td>40</td>\n",
       "    </tr>\n",
       "  </tbody>\n",
       "</table>\n",
       "</div>"
      ],
      "text/plain": [
       "     Name  Roll\n",
       "0  Dikesh    12\n",
       "1  Ronish    31\n",
       "2   Ujwal    40"
      ]
     },
     "execution_count": 17,
     "metadata": {},
     "output_type": "execute_result"
    }
   ],
   "source": [
    "import pandas as ujwal\n",
    "dat=[['Dikesh',12],['Ronish',31],['Ujwal',40]]\n",
    "df=ujwal.DataFrame(dat,columns=['Name','Roll'])\n",
    "df"
   ]
  },
  {
   "cell_type": "code",
   "execution_count": 18,
   "id": "eeb78b13-d76e-4925-8e46-22dd55f17a3c",
   "metadata": {},
   "outputs": [
    {
     "data": {
      "text/html": [
       "<div>\n",
       "<style scoped>\n",
       "    .dataframe tbody tr th:only-of-type {\n",
       "        vertical-align: middle;\n",
       "    }\n",
       "\n",
       "    .dataframe tbody tr th {\n",
       "        vertical-align: top;\n",
       "    }\n",
       "\n",
       "    .dataframe thead th {\n",
       "        text-align: right;\n",
       "    }\n",
       "</style>\n",
       "<table border=\"1\" class=\"dataframe\">\n",
       "  <thead>\n",
       "    <tr style=\"text-align: right;\">\n",
       "      <th></th>\n",
       "      <th>Country</th>\n",
       "      <th>Demo</th>\n",
       "      <th>Refugees</th>\n",
       "      <th>Group</th>\n",
       "      <th>Flight</th>\n",
       "    </tr>\n",
       "  </thead>\n",
       "  <tbody>\n",
       "    <tr>\n",
       "      <th>0</th>\n",
       "      <td>Somalia</td>\n",
       "      <td>10.0</td>\n",
       "      <td>9.0</td>\n",
       "      <td>8.7</td>\n",
       "      <td>8.6</td>\n",
       "    </tr>\n",
       "    <tr>\n",
       "      <th>1</th>\n",
       "      <td>NaN</td>\n",
       "      <td>9.6</td>\n",
       "      <td>9.6</td>\n",
       "      <td>8.8</td>\n",
       "      <td>6.4</td>\n",
       "    </tr>\n",
       "    <tr>\n",
       "      <th>2</th>\n",
       "      <td>South Sudan</td>\n",
       "      <td>9.7</td>\n",
       "      <td>10.0</td>\n",
       "      <td>8.6</td>\n",
       "      <td>6.5</td>\n",
       "    </tr>\n",
       "    <tr>\n",
       "      <th>3</th>\n",
       "      <td>Congo Democratic Republic</td>\n",
       "      <td>9.7</td>\n",
       "      <td>9.8</td>\n",
       "      <td>NaN</td>\n",
       "      <td>6.4</td>\n",
       "    </tr>\n",
       "    <tr>\n",
       "      <th>4</th>\n",
       "      <td>Syria</td>\n",
       "      <td>7.4</td>\n",
       "      <td>9.1</td>\n",
       "      <td>9.1</td>\n",
       "      <td>8.0</td>\n",
       "    </tr>\n",
       "    <tr>\n",
       "      <th>5</th>\n",
       "      <td>Afghanistan</td>\n",
       "      <td>NaN</td>\n",
       "      <td>8.6</td>\n",
       "      <td>8.3</td>\n",
       "      <td>8.5</td>\n",
       "    </tr>\n",
       "    <tr>\n",
       "      <th>6</th>\n",
       "      <td>Sudan</td>\n",
       "      <td>8.8</td>\n",
       "      <td>9.6</td>\n",
       "      <td>9.3</td>\n",
       "      <td>7.5</td>\n",
       "    </tr>\n",
       "    <tr>\n",
       "      <th>7</th>\n",
       "      <td>NaN</td>\n",
       "      <td>9.3</td>\n",
       "      <td>9.5</td>\n",
       "      <td>8.1</td>\n",
       "      <td>6.2</td>\n",
       "    </tr>\n",
       "    <tr>\n",
       "      <th>8</th>\n",
       "      <td>Chad</td>\n",
       "      <td>9.5</td>\n",
       "      <td>9.0</td>\n",
       "      <td>NaN</td>\n",
       "      <td>7.7</td>\n",
       "    </tr>\n",
       "    <tr>\n",
       "      <th>9</th>\n",
       "      <td>Haiti</td>\n",
       "      <td>8.8</td>\n",
       "      <td>7.7</td>\n",
       "      <td>5.5</td>\n",
       "      <td>8.3</td>\n",
       "    </tr>\n",
       "    <tr>\n",
       "      <th>10</th>\n",
       "      <td>Ethiopia</td>\n",
       "      <td>9.8</td>\n",
       "      <td>NaN</td>\n",
       "      <td>8.9</td>\n",
       "      <td>6.2</td>\n",
       "    </tr>\n",
       "    <tr>\n",
       "      <th>11</th>\n",
       "      <td>Mali</td>\n",
       "      <td>8.8</td>\n",
       "      <td>8.5</td>\n",
       "      <td>8.5</td>\n",
       "      <td>7.7</td>\n",
       "    </tr>\n",
       "    <tr>\n",
       "      <th>12</th>\n",
       "      <td>Guinea</td>\n",
       "      <td>8.8</td>\n",
       "      <td>6.2</td>\n",
       "      <td>9.4</td>\n",
       "      <td>NaN</td>\n",
       "    </tr>\n",
       "    <tr>\n",
       "      <th>13</th>\n",
       "      <td>NaN</td>\n",
       "      <td>NaN</td>\n",
       "      <td>6.4</td>\n",
       "      <td>8.6</td>\n",
       "      <td>6.7</td>\n",
       "    </tr>\n",
       "  </tbody>\n",
       "</table>\n",
       "</div>"
      ],
      "text/plain": [
       "                      Country  Demo  Refugees  Group  Flight\n",
       "0                     Somalia  10.0       9.0    8.7     8.6\n",
       "1                         NaN   9.6       9.6    8.8     6.4\n",
       "2                 South Sudan   9.7      10.0    8.6     6.5\n",
       "3   Congo Democratic Republic   9.7       9.8    NaN     6.4\n",
       "4                       Syria   7.4       9.1    9.1     8.0\n",
       "5                 Afghanistan   NaN       8.6    8.3     8.5\n",
       "6                       Sudan   8.8       9.6    9.3     7.5\n",
       "7                         NaN   9.3       9.5    8.1     6.2\n",
       "8                        Chad   9.5       9.0    NaN     7.7\n",
       "9                       Haiti   8.8       7.7    5.5     8.3\n",
       "10                   Ethiopia   9.8       NaN    8.9     6.2\n",
       "11                       Mali   8.8       8.5    8.5     7.7\n",
       "12                     Guinea   8.8       6.2    9.4     NaN\n",
       "13                        NaN   NaN       6.4    8.6     6.7"
      ]
     },
     "execution_count": 18,
     "metadata": {},
     "output_type": "execute_result"
    }
   ],
   "source": [
    "import pandas as ujwal\n",
    "fil=\"F:/UjwalParajuli/python-class/python/practice/pandas/FSI.xlsx\"\n",
    "df=ujwal.read_excel(fil)\n",
    "df"
   ]
  },
  {
   "cell_type": "code",
   "execution_count": 21,
   "id": "22901063-bc3c-4eba-91bc-067a5b92be6b",
   "metadata": {},
   "outputs": [
    {
     "data": {
      "text/html": [
       "<div>\n",
       "<style scoped>\n",
       "    .dataframe tbody tr th:only-of-type {\n",
       "        vertical-align: middle;\n",
       "    }\n",
       "\n",
       "    .dataframe tbody tr th {\n",
       "        vertical-align: top;\n",
       "    }\n",
       "\n",
       "    .dataframe thead th {\n",
       "        text-align: right;\n",
       "    }\n",
       "</style>\n",
       "<table border=\"1\" class=\"dataframe\">\n",
       "  <thead>\n",
       "    <tr style=\"text-align: right;\">\n",
       "      <th></th>\n",
       "      <th>Unnamed: 0</th>\n",
       "      <th>summary</th>\n",
       "      <th>label</th>\n",
       "    </tr>\n",
       "  </thead>\n",
       "  <tbody>\n",
       "    <tr>\n",
       "      <th>0</th>\n",
       "      <td>0</td>\n",
       "      <td>भारत सरकारले प्रमुख विपक्षी दल कंग्रेसका अध्यक...</td>\n",
       "      <td>1.0</td>\n",
       "    </tr>\n",
       "    <tr>\n",
       "      <th>1</th>\n",
       "      <td>1</td>\n",
       "      <td>विद्युत चोरीमा संलग्न भएको आरोपमा विद्युत प्रा...</td>\n",
       "      <td>2.0</td>\n",
       "    </tr>\n",
       "    <tr>\n",
       "      <th>2</th>\n",
       "      <td>2</td>\n",
       "      <td>इटलीमा कोरोनाभाइरसको सङ्क्रमणबाट मृत्यु हुने म...</td>\n",
       "      <td>0.0</td>\n",
       "    </tr>\n",
       "    <tr>\n",
       "      <th>3</th>\n",
       "      <td>3</td>\n",
       "      <td>पश्चिमोत्तर चीनको शिन्जियाङ क्षेत्रका मुख्यतः ...</td>\n",
       "      <td>0.0</td>\n",
       "    </tr>\n",
       "    <tr>\n",
       "      <th>4</th>\n",
       "      <td>4</td>\n",
       "      <td>अमेरिकी राष्ट्रपतिले डोनाल्ड ट्रम्पले भेनेजुएल...</td>\n",
       "      <td>1.0</td>\n",
       "    </tr>\n",
       "    <tr>\n",
       "      <th>...</th>\n",
       "      <td>...</td>\n",
       "      <td>...</td>\n",
       "      <td>...</td>\n",
       "    </tr>\n",
       "    <tr>\n",
       "      <th>680</th>\n",
       "      <td>720</td>\n",
       "      <td>नेपालको काँधमा कुल ११ खर्ब रुपैयाँको ऋण छ र हर...</td>\n",
       "      <td>0.0</td>\n",
       "    </tr>\n",
       "    <tr>\n",
       "      <th>681</th>\n",
       "      <td>721</td>\n",
       "      <td>श्रीलंकाका अधिकारीहरुले सन् १९८० को दशकताका हज...</td>\n",
       "      <td>0.0</td>\n",
       "    </tr>\n",
       "    <tr>\n",
       "      <th>682</th>\n",
       "      <td>722</td>\n",
       "      <td>रुसमा एउटा भव्य समारोहबीच आरम्भ भएको विश्वकप फ...</td>\n",
       "      <td>1.0</td>\n",
       "    </tr>\n",
       "    <tr>\n",
       "      <th>683</th>\n",
       "      <td>723</td>\n",
       "      <td>दुई दिनदेखि भारतको उत्तर प्रदेशका सञ्जय कुमारल...</td>\n",
       "      <td>0.0</td>\n",
       "    </tr>\n",
       "    <tr>\n",
       "      <th>684</th>\n",
       "      <td>724</td>\n",
       "      <td>इटलीमा कोरोनाभाइसका कारण एकै दिन ४२७ जनाको ज्य...</td>\n",
       "      <td>0.0</td>\n",
       "    </tr>\n",
       "  </tbody>\n",
       "</table>\n",
       "<p>685 rows × 3 columns</p>\n",
       "</div>"
      ],
      "text/plain": [
       "     Unnamed: 0                                            summary  label\n",
       "0             0  भारत सरकारले प्रमुख विपक्षी दल कंग्रेसका अध्यक...    1.0\n",
       "1             1  विद्युत चोरीमा संलग्न भएको आरोपमा विद्युत प्रा...    2.0\n",
       "2             2  इटलीमा कोरोनाभाइरसको सङ्क्रमणबाट मृत्यु हुने म...    0.0\n",
       "3             3  पश्चिमोत्तर चीनको शिन्जियाङ क्षेत्रका मुख्यतः ...    0.0\n",
       "4             4  अमेरिकी राष्ट्रपतिले डोनाल्ड ट्रम्पले भेनेजुएल...    1.0\n",
       "..          ...                                                ...    ...\n",
       "680         720  नेपालको काँधमा कुल ११ खर्ब रुपैयाँको ऋण छ र हर...    0.0\n",
       "681         721  श्रीलंकाका अधिकारीहरुले सन् १९८० को दशकताका हज...    0.0\n",
       "682         722  रुसमा एउटा भव्य समारोहबीच आरम्भ भएको विश्वकप फ...    1.0\n",
       "683         723  दुई दिनदेखि भारतको उत्तर प्रदेशका सञ्जय कुमारल...    0.0\n",
       "684         724  इटलीमा कोरोनाभाइसका कारण एकै दिन ४२७ जनाको ज्य...    0.0\n",
       "\n",
       "[685 rows x 3 columns]"
      ]
     },
     "execution_count": 21,
     "metadata": {},
     "output_type": "execute_result"
    }
   ],
   "source": [
    "import pandas as ujwal\n",
    "name=\"F:/UjwalParajuli/python-class/python/practice/pandas/output.csv\"\n",
    "df=ujwal.read_csv(name,on_bad_lines=\"skip\")\n",
    "df"
   ]
  },
  {
   "cell_type": "code",
   "execution_count": 22,
   "id": "f2a74bf1-fea6-4636-a2df-49a3a687de2e",
   "metadata": {},
   "outputs": [
    {
     "data": {
      "text/html": [
       "<div>\n",
       "<style scoped>\n",
       "    .dataframe tbody tr th:only-of-type {\n",
       "        vertical-align: middle;\n",
       "    }\n",
       "\n",
       "    .dataframe tbody tr th {\n",
       "        vertical-align: top;\n",
       "    }\n",
       "\n",
       "    .dataframe thead th {\n",
       "        text-align: right;\n",
       "    }\n",
       "</style>\n",
       "<table border=\"1\" class=\"dataframe\">\n",
       "  <thead>\n",
       "    <tr style=\"text-align: right;\">\n",
       "      <th></th>\n",
       "      <th>Unnamed: 0</th>\n",
       "      <th>summary</th>\n",
       "      <th>label</th>\n",
       "    </tr>\n",
       "  </thead>\n",
       "  <tbody>\n",
       "    <tr>\n",
       "      <th>0</th>\n",
       "      <td>0</td>\n",
       "      <td>भारत सरकारले प्रमुख विपक्षी दल कंग्रेसका अध्यक...</td>\n",
       "      <td>1.0</td>\n",
       "    </tr>\n",
       "    <tr>\n",
       "      <th>1</th>\n",
       "      <td>1</td>\n",
       "      <td>विद्युत चोरीमा संलग्न भएको आरोपमा विद्युत प्रा...</td>\n",
       "      <td>2.0</td>\n",
       "    </tr>\n",
       "    <tr>\n",
       "      <th>2</th>\n",
       "      <td>2</td>\n",
       "      <td>इटलीमा कोरोनाभाइरसको सङ्क्रमणबाट मृत्यु हुने म...</td>\n",
       "      <td>0.0</td>\n",
       "    </tr>\n",
       "    <tr>\n",
       "      <th>3</th>\n",
       "      <td>3</td>\n",
       "      <td>पश्चिमोत्तर चीनको शिन्जियाङ क्षेत्रका मुख्यतः ...</td>\n",
       "      <td>0.0</td>\n",
       "    </tr>\n",
       "    <tr>\n",
       "      <th>4</th>\n",
       "      <td>4</td>\n",
       "      <td>अमेरिकी राष्ट्रपतिले डोनाल्ड ट्रम्पले भेनेजुएल...</td>\n",
       "      <td>1.0</td>\n",
       "    </tr>\n",
       "  </tbody>\n",
       "</table>\n",
       "</div>"
      ],
      "text/plain": [
       "   Unnamed: 0                                            summary  label\n",
       "0           0  भारत सरकारले प्रमुख विपक्षी दल कंग्रेसका अध्यक...    1.0\n",
       "1           1  विद्युत चोरीमा संलग्न भएको आरोपमा विद्युत प्रा...    2.0\n",
       "2           2  इटलीमा कोरोनाभाइरसको सङ्क्रमणबाट मृत्यु हुने म...    0.0\n",
       "3           3  पश्चिमोत्तर चीनको शिन्जियाङ क्षेत्रका मुख्यतः ...    0.0\n",
       "4           4  अमेरिकी राष्ट्रपतिले डोनाल्ड ट्रम्पले भेनेजुएल...    1.0"
      ]
     },
     "execution_count": 22,
     "metadata": {},
     "output_type": "execute_result"
    }
   ],
   "source": [
    "df.head()"
   ]
  },
  {
   "cell_type": "code",
   "execution_count": 23,
   "id": "eadbf744-97ab-4c1f-b7ec-5695b0da73db",
   "metadata": {},
   "outputs": [
    {
     "data": {
      "text/html": [
       "<div>\n",
       "<style scoped>\n",
       "    .dataframe tbody tr th:only-of-type {\n",
       "        vertical-align: middle;\n",
       "    }\n",
       "\n",
       "    .dataframe tbody tr th {\n",
       "        vertical-align: top;\n",
       "    }\n",
       "\n",
       "    .dataframe thead th {\n",
       "        text-align: right;\n",
       "    }\n",
       "</style>\n",
       "<table border=\"1\" class=\"dataframe\">\n",
       "  <thead>\n",
       "    <tr style=\"text-align: right;\">\n",
       "      <th></th>\n",
       "      <th>Unnamed: 0</th>\n",
       "      <th>summary</th>\n",
       "      <th>label</th>\n",
       "    </tr>\n",
       "  </thead>\n",
       "  <tbody>\n",
       "    <tr>\n",
       "      <th>680</th>\n",
       "      <td>720</td>\n",
       "      <td>नेपालको काँधमा कुल ११ खर्ब रुपैयाँको ऋण छ र हर...</td>\n",
       "      <td>0.0</td>\n",
       "    </tr>\n",
       "    <tr>\n",
       "      <th>681</th>\n",
       "      <td>721</td>\n",
       "      <td>श्रीलंकाका अधिकारीहरुले सन् १९८० को दशकताका हज...</td>\n",
       "      <td>0.0</td>\n",
       "    </tr>\n",
       "    <tr>\n",
       "      <th>682</th>\n",
       "      <td>722</td>\n",
       "      <td>रुसमा एउटा भव्य समारोहबीच आरम्भ भएको विश्वकप फ...</td>\n",
       "      <td>1.0</td>\n",
       "    </tr>\n",
       "    <tr>\n",
       "      <th>683</th>\n",
       "      <td>723</td>\n",
       "      <td>दुई दिनदेखि भारतको उत्तर प्रदेशका सञ्जय कुमारल...</td>\n",
       "      <td>0.0</td>\n",
       "    </tr>\n",
       "    <tr>\n",
       "      <th>684</th>\n",
       "      <td>724</td>\n",
       "      <td>इटलीमा कोरोनाभाइसका कारण एकै दिन ४२७ जनाको ज्य...</td>\n",
       "      <td>0.0</td>\n",
       "    </tr>\n",
       "  </tbody>\n",
       "</table>\n",
       "</div>"
      ],
      "text/plain": [
       "     Unnamed: 0                                            summary  label\n",
       "680         720  नेपालको काँधमा कुल ११ खर्ब रुपैयाँको ऋण छ र हर...    0.0\n",
       "681         721  श्रीलंकाका अधिकारीहरुले सन् १९८० को दशकताका हज...    0.0\n",
       "682         722  रुसमा एउटा भव्य समारोहबीच आरम्भ भएको विश्वकप फ...    1.0\n",
       "683         723  दुई दिनदेखि भारतको उत्तर प्रदेशका सञ्जय कुमारल...    0.0\n",
       "684         724  इटलीमा कोरोनाभाइसका कारण एकै दिन ४२७ जनाको ज्य...    0.0"
      ]
     },
     "execution_count": 23,
     "metadata": {},
     "output_type": "execute_result"
    }
   ],
   "source": [
    "df.tail()"
   ]
  },
  {
   "cell_type": "code",
   "execution_count": 24,
   "id": "65b98258-eabd-4e2e-a3e8-30fcb60a7a60",
   "metadata": {},
   "outputs": [
    {
     "data": {
      "text/html": [
       "<div>\n",
       "<style scoped>\n",
       "    .dataframe tbody tr th:only-of-type {\n",
       "        vertical-align: middle;\n",
       "    }\n",
       "\n",
       "    .dataframe tbody tr th {\n",
       "        vertical-align: top;\n",
       "    }\n",
       "\n",
       "    .dataframe thead th {\n",
       "        text-align: right;\n",
       "    }\n",
       "</style>\n",
       "<table border=\"1\" class=\"dataframe\">\n",
       "  <thead>\n",
       "    <tr style=\"text-align: right;\">\n",
       "      <th></th>\n",
       "      <th>Unnamed: 0</th>\n",
       "      <th>summary</th>\n",
       "      <th>label</th>\n",
       "    </tr>\n",
       "  </thead>\n",
       "  <tbody>\n",
       "    <tr>\n",
       "      <th>0</th>\n",
       "      <td>0</td>\n",
       "      <td>भारत सरकारले प्रमुख विपक्षी दल कंग्रेसका अध्यक...</td>\n",
       "      <td>1.0</td>\n",
       "    </tr>\n",
       "    <tr>\n",
       "      <th>1</th>\n",
       "      <td>1</td>\n",
       "      <td>विद्युत चोरीमा संलग्न भएको आरोपमा विद्युत प्रा...</td>\n",
       "      <td>2.0</td>\n",
       "    </tr>\n",
       "    <tr>\n",
       "      <th>2</th>\n",
       "      <td>2</td>\n",
       "      <td>इटलीमा कोरोनाभाइरसको सङ्क्रमणबाट मृत्यु हुने म...</td>\n",
       "      <td>0.0</td>\n",
       "    </tr>\n",
       "    <tr>\n",
       "      <th>3</th>\n",
       "      <td>3</td>\n",
       "      <td>पश्चिमोत्तर चीनको शिन्जियाङ क्षेत्रका मुख्यतः ...</td>\n",
       "      <td>0.0</td>\n",
       "    </tr>\n",
       "    <tr>\n",
       "      <th>4</th>\n",
       "      <td>4</td>\n",
       "      <td>अमेरिकी राष्ट्रपतिले डोनाल्ड ट्रम्पले भेनेजुएल...</td>\n",
       "      <td>1.0</td>\n",
       "    </tr>\n",
       "    <tr>\n",
       "      <th>5</th>\n",
       "      <td>5</td>\n",
       "      <td>स्वाब परीक्षणको सङ्ख्या देशव्यापी रूपमा बढाएर ...</td>\n",
       "      <td>0.0</td>\n",
       "    </tr>\n",
       "    <tr>\n",
       "      <th>6</th>\n",
       "      <td>6</td>\n",
       "      <td>प्रधानमन्त्री प्रचण्डले द्वन्द्वकालीन मुद्दामा...</td>\n",
       "      <td>0.0</td>\n",
       "    </tr>\n",
       "    <tr>\n",
       "      <th>7</th>\n",
       "      <td>7</td>\n",
       "      <td>अमेरिकी राष्ट्रपति डोनल्ड ट्रम्पविरुद्ध महाभिय...</td>\n",
       "      <td>1.0</td>\n",
       "    </tr>\n",
       "    <tr>\n",
       "      <th>8</th>\n",
       "      <td>8</td>\n",
       "      <td>अमेरिकी राष्ट्रपति डोनल्ड ट्रम्पले अमेरिका छिर...</td>\n",
       "      <td>0.0</td>\n",
       "    </tr>\n",
       "    <tr>\n",
       "      <th>9</th>\n",
       "      <td>9</td>\n",
       "      <td>अमेरिकाका वैज्ञानिकहरूले क्यान्सर परीक्षणका ला...</td>\n",
       "      <td>2.0</td>\n",
       "    </tr>\n",
       "  </tbody>\n",
       "</table>\n",
       "</div>"
      ],
      "text/plain": [
       "   Unnamed: 0                                            summary  label\n",
       "0           0  भारत सरकारले प्रमुख विपक्षी दल कंग्रेसका अध्यक...    1.0\n",
       "1           1  विद्युत चोरीमा संलग्न भएको आरोपमा विद्युत प्रा...    2.0\n",
       "2           2  इटलीमा कोरोनाभाइरसको सङ्क्रमणबाट मृत्यु हुने म...    0.0\n",
       "3           3  पश्चिमोत्तर चीनको शिन्जियाङ क्षेत्रका मुख्यतः ...    0.0\n",
       "4           4  अमेरिकी राष्ट्रपतिले डोनाल्ड ट्रम्पले भेनेजुएल...    1.0\n",
       "5           5  स्वाब परीक्षणको सङ्ख्या देशव्यापी रूपमा बढाएर ...    0.0\n",
       "6           6  प्रधानमन्त्री प्रचण्डले द्वन्द्वकालीन मुद्दामा...    0.0\n",
       "7           7  अमेरिकी राष्ट्रपति डोनल्ड ट्रम्पविरुद्ध महाभिय...    1.0\n",
       "8           8  अमेरिकी राष्ट्रपति डोनल्ड ट्रम्पले अमेरिका छिर...    0.0\n",
       "9           9  अमेरिकाका वैज्ञानिकहरूले क्यान्सर परीक्षणका ला...    2.0"
      ]
     },
     "execution_count": 24,
     "metadata": {},
     "output_type": "execute_result"
    }
   ],
   "source": [
    "df.head(10)"
   ]
  },
  {
   "cell_type": "code",
   "execution_count": 25,
   "id": "dfc04bb5-e77e-4472-b115-1f00ca1d2119",
   "metadata": {},
   "outputs": [
    {
     "name": "stdout",
     "output_type": "stream",
     "text": [
      "The shape is (685, 3)\n"
     ]
    }
   ],
   "source": [
    "print(f\"The shape is {df.shape}\")"
   ]
  },
  {
   "cell_type": "code",
   "execution_count": 28,
   "id": "a8dda8d0-2679-491c-ac58-c95e29c7b6e4",
   "metadata": {},
   "outputs": [
    {
     "name": "stdout",
     "output_type": "stream",
     "text": [
      "The index is RangeIndex(start=0, stop=685, step=1)\n"
     ]
    }
   ],
   "source": [
    "print(f\"The index is {df.index}\")"
   ]
  },
  {
   "cell_type": "code",
   "execution_count": 29,
   "id": "12fe7a57-1e5b-4402-a3b3-c13839eed254",
   "metadata": {},
   "outputs": [
    {
     "name": "stdout",
     "output_type": "stream",
     "text": [
      "The columns are Index(['Unnamed: 0', 'summary', 'label'], dtype='object')\n"
     ]
    }
   ],
   "source": [
    "print(f\"The columns are {df.columns}\")"
   ]
  },
  {
   "cell_type": "code",
   "execution_count": 32,
   "id": "87047742-b863-4f0c-9548-2252beaa1b33",
   "metadata": {},
   "outputs": [
    {
     "ename": "SyntaxError",
     "evalue": "unterminated string literal (detected at line 1) (2171467885.py, line 1)",
     "output_type": "error",
     "traceback": [
      "\u001b[1;36m  Cell \u001b[1;32mIn[32], line 1\u001b[1;36m\u001b[0m\n\u001b[1;33m    print(f\"The data types are {df.dtypes})\u001b[0m\n\u001b[1;37m          ^\u001b[0m\n\u001b[1;31mSyntaxError\u001b[0m\u001b[1;31m:\u001b[0m unterminated string literal (detected at line 1)\n"
     ]
    }
   ],
   "source": [
    "print(f\"The data types are {df.dtypes})"
   ]
  }
 ],
 "metadata": {
  "kernelspec": {
   "display_name": "Python 3 (ipykernel)",
   "language": "python",
   "name": "python3"
  },
  "language_info": {
   "codemirror_mode": {
    "name": "ipython",
    "version": 3
   },
   "file_extension": ".py",
   "mimetype": "text/x-python",
   "name": "python",
   "nbconvert_exporter": "python",
   "pygments_lexer": "ipython3",
   "version": "3.11.5"
  }
 },
 "nbformat": 4,
 "nbformat_minor": 5
}
