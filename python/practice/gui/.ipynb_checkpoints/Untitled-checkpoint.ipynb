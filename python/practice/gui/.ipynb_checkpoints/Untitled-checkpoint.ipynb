{
 "cells": [
  {
   "cell_type": "code",
   "execution_count": 2,
   "id": "7292c9a0-b568-46ff-809f-21edbc95e36d",
   "metadata": {},
   "outputs": [],
   "source": [
    "import tkinter as tk\n",
    "window=tk.Tk()\n",
    "label = tk.Label(\n",
    "    text=\"Hello, Tkinter\",\n",
    "    foreground=\"white\",  # Set the text color to white\n",
    "    background=\"black\"  # Set the background color to black\n",
    ")\n",
    "label.pack()\n",
    "window.mainloop()"
   ]
  },
  {
   "cell_type": "code",
   "execution_count": 3,
   "id": "ee00ca0d-b8e9-4f26-89f1-65fee95b03ab",
   "metadata": {},
   "outputs": [],
   "source": [
    "import tkinter as tk\n",
    "window=tk.Tk()\n",
    "label = tk.Label(\n",
    "    text=\"Hello, Tkinter\",\n",
    "    fg=\"white\",\n",
    "    bg=\"black\",\n",
    "    width=10,\n",
    "    height=10\n",
    ")\n",
    "label.pack()\n",
    "window.mainloop()"
   ]
  },
  {
   "cell_type": "code",
   "execution_count": 7,
   "id": "7d330460-d05a-46cb-8269-f25b07198336",
   "metadata": {},
   "outputs": [],
   "source": [
    "import tkinter as tk\n",
    "window=tk.Tk()\n",
    "button = tk.Button(\n",
    "    text=\"Hello, Tkinter\",\n",
    "    fg=\"white\",\n",
    "    bg=\"black\",\n",
    "    width=10,\n",
    "    height=10\n",
    ")\n",
    "button.pack()\n",
    "window.mainloop()"
   ]
  },
  {
   "cell_type": "code",
   "execution_count": 8,
   "id": "1493b8a8-bd96-47a9-afb0-a011e17e8e0e",
   "metadata": {},
   "outputs": [],
   "source": [
    "import tkinter as tk\n",
    "window=tk.Tk()\n",
    "en=tk.Entry()\n",
    "en.pack()\n",
    "window.mainloop()"
   ]
  }
 ],
 "metadata": {
  "kernelspec": {
   "display_name": "Python 3 (ipykernel)",
   "language": "python",
   "name": "python3"
  },
  "language_info": {
   "codemirror_mode": {
    "name": "ipython",
    "version": 3
   },
   "file_extension": ".py",
   "mimetype": "text/x-python",
   "name": "python",
   "nbconvert_exporter": "python",
   "pygments_lexer": "ipython3",
   "version": "3.12.4"
  }
 },
 "nbformat": 4,
 "nbformat_minor": 5
}
