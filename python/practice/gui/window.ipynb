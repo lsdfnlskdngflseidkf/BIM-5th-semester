{
 "cells": [
  {
   "cell_type": "code",
   "execution_count": 1,
   "id": "16a9fa1c-54b6-4185-89ea-94bf36492d7c",
   "metadata": {},
   "outputs": [
    {
     "ename": "NameError",
     "evalue": "name 'name' is not defined",
     "output_type": "error",
     "traceback": [
      "\u001b[0;31m---------------------------------------------------------------------------\u001b[0m",
      "\u001b[0;31mNameError\u001b[0m                                 Traceback (most recent call last)",
      "Cell \u001b[0;32mIn[1], line 9\u001b[0m\n\u001b[1;32m      7\u001b[0m window\u001b[38;5;241m.\u001b[39mtitle(\u001b[38;5;124m\"\u001b[39m\u001b[38;5;124mThis is the title\u001b[39m\u001b[38;5;124m\"\u001b[39m)\n\u001b[1;32m      8\u001b[0m lb \u001b[38;5;241m=\u001b[39m tk\u001b[38;5;241m.\u001b[39mLabel(text\u001b[38;5;241m=\u001b[39m\u001b[38;5;124m\"\u001b[39m\u001b[38;5;124mThis is a label in a window that uses tk interface\u001b[39m\u001b[38;5;124m\"\u001b[39m)\n\u001b[0;32m----> 9\u001b[0m bt\u001b[38;5;241m=\u001b[39mtk\u001b[38;5;241m.\u001b[39mButton(text\u001b[38;5;241m=\u001b[39m\u001b[38;5;124m\"\u001b[39m\u001b[38;5;124mDo NOT click this button\u001b[39m\u001b[38;5;124m\"\u001b[39m, command\u001b[38;5;241m=\u001b[39mdisp(\u001b[43mname\u001b[49m))\n\u001b[1;32m     10\u001b[0m name\u001b[38;5;241m=\u001b[39men\u001b[38;5;241m.\u001b[39mget()\n\u001b[1;32m     11\u001b[0m enlab\u001b[38;5;241m=\u001b[39mtk\u001b[38;5;241m.\u001b[39mLabel(text\u001b[38;5;241m=\u001b[39m\u001b[38;5;124m\"\u001b[39m\u001b[38;5;124mEnter your name\u001b[39m\u001b[38;5;124m\"\u001b[39m)\n",
      "\u001b[0;31mNameError\u001b[0m: name 'name' is not defined"
     ]
    }
   ],
   "source": [
    "import tkinter as tk\n",
    "def disp(n):\n",
    "    print(\"Your name is \",n)\n",
    "window = tk.Tk()\n",
    "en=tk.Entry()\n",
    "window.geometry(\"400x400\")\n",
    "window.title(\"This is the title\")\n",
    "lb = tk.Label(text=\"This is a label in a window that uses tk interface\")\n",
    "bt=tk.Button(text=\"Do NOT click this button\", command=disp(name))\n",
    "name=en.get()\n",
    "enlab=tk.Label(text=\"Enter your name\")\n",
    "enlab.pack()\n",
    "en.grid(row=0,column=0)\n",
    "bt.pack()\n",
    "\n",
    "window.mainloop()"
   ]
  },
  {
   "cell_type": "code",
   "execution_count": 3,
   "id": "8eec9ae0-3bf9-4fdf-90cc-173a86596378",
   "metadata": {},
   "outputs": [
    {
     "name": "stdout",
     "output_type": "stream",
     "text": [
      "Oops!, Button Clicked!\n",
      "Oops!, Button Clicked!\n",
      "Oops!, Button Clicked!\n",
      "Oops!, Button Clicked!\n",
      "Oops!, Button Clicked!\n",
      "Oops!, Button Clicked!\n",
      "Oops!, Button Clicked!\n",
      "Oops!, Button Clicked!\n"
     ]
    }
   ],
   "source": [
    "import tkinter as tk\n",
    "def onclick():\n",
    "    print(\"Oops!, Button Clicked!\")\n",
    "root = tk.Tk()\n",
    "button = tk.Button(root,\n",
    "                text =\"Click Me\",\n",
    "                command = onclick,\n",
    "                anchor = \"center\",\n",
    "                cursor = \"star\",\n",
    "                font =(\"Arial\",14))\n",
    "button.pack(padx = 20, pady = 20)\n",
    "root.title(\"Button Window\")\n",
    "root.geometry(\"400x300\")\n",
    "root.mainloop()"
   ]
  },
  {
   "cell_type": "code",
   "execution_count": 4,
   "id": "c6451c50-c714-4b75-b2d8-7b255e7f0d5f",
   "metadata": {},
   "outputs": [
    {
     "name": "stdout",
     "output_type": "stream",
     "text": [
      "Entered string: Ujwal\n"
     ]
    }
   ],
   "source": [
    "import tkinter as tk\n",
    "from tkinter import simpledialog\n",
    "\n",
    "# Create the main Tkinter window\n",
    "root = tk.Tk()\n",
    "root.title(\"tkSimpleDialog.askstring Example\")\n",
    "root.geometry(\"720x250\")\n",
    "\n",
    "# Function to show the string input dialog\n",
    "def get_string_input():\n",
    "   result = simpledialog.askstring(\"Input\", \"Enter a string:\")\n",
    "   if result:\n",
    "      # Do something with the entered string \n",
    "      print(\"Entered string:\", result)\n",
    "\n",
    "# Create a button that, when clicked, calls the get_string_input function\n",
    "button = tk.Button(root, text=\"Get String Input\", command=get_string_input)\n",
    "button.pack(pady=20)\n",
    "\n",
    "# Start the Tkinter event loop\n",
    "root.mainloop()"
   ]
  },
  {
   "cell_type": "code",
   "execution_count": 5,
   "id": "71f7d359-6ad2-4f03-9f84-d07c050ee35c",
   "metadata": {},
   "outputs": [],
   "source": [
    "import tkinter as tk\n",
    "from tkinter import simpledialog,messagebox\n",
    "again=tk.Tk()\n",
    "again.title(\"multiply two numbers with gui\")\n",
    "again.geometry(\"500x500\")\n",
    "def mul():\n",
    "    a=simpledialog.askinteger(\"Enter\",\"Enter first number\")\n",
    "    b=simpledialog.askinteger(\"Enter\",\"Enter second number\")\n",
    "    res=a*b\n",
    "    messagebox.showinfo(\"Result\",f\"The product is {res}\")\n",
    "btn=tk.Button(again,text=\"Click this button\",command=mul)\n",
    "btn.pack()\n",
    "again.mainloop()"
   ]
  }
 ],
 "metadata": {
  "kernelspec": {
   "display_name": "Python 3 (ipykernel)",
   "language": "python",
   "name": "python3"
  },
  "language_info": {
   "codemirror_mode": {
    "name": "ipython",
    "version": 3
   },
   "file_extension": ".py",
   "mimetype": "text/x-python",
   "name": "python",
   "nbconvert_exporter": "python",
   "pygments_lexer": "ipython3",
   "version": "3.12.7"
  }
 },
 "nbformat": 4,
 "nbformat_minor": 5
}
