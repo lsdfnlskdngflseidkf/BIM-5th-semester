{
 "cells": [
  {
   "cell_type": "code",
   "execution_count": null,
   "id": "765eefb8-6c3c-4a15-82b5-1c35835a107b",
   "metadata": {},
   "outputs": [],
   "source": []
  }
 ],
 "metadata": {
  "kernelspec": {
   "display_name": "",
   "name": ""
  },
  "language_info": {
   "name": ""
  }
 },
 "nbformat": 4,
 "nbformat_minor": 5
}
