{
 "cells": [
  {
   "cell_type": "code",
   "execution_count": 1,
   "id": "7b919562-5a7e-49c2-bc96-ce111e698abc",
   "metadata": {},
   "outputs": [
    {
     "name": "stdout",
     "output_type": "stream",
     "text": [
      "[ 1 23  4  5  6  7  8]\n",
      "<class 'numpy.ndarray'>\n"
     ]
    }
   ],
   "source": [
    "import numpy as ujwal\n",
    "lis=[1,23,4,5,6,7,8]\n",
    "l=[1,2,4,5,6,7,8]\n",
    "ins=[1,3,4,5,6,7,8]\n",
    "ls=[1,0,4,5,6,7,8]\n",
    "ar=ujwal.array(lis)\n",
    "print(ar)\n",
    "print(type(ar))"
   ]
  },
  {
   "cell_type": "code",
   "execution_count": 3,
   "id": "39f4cf5f-ae91-46cf-8411-216405cb7081",
   "metadata": {},
   "outputs": [
    {
     "name": "stdout",
     "output_type": "stream",
     "text": [
      "[0. 0. 0. 0. 0. 0. 0. 0. 0. 0.]\n"
     ]
    }
   ],
   "source": [
    "#create an array with 10 zeros\n",
    "arr=ujwal.zeros(10)\n",
    "print(arr)"
   ]
  },
  {
   "cell_type": "code",
   "execution_count": 2,
   "id": "c664daec-e201-4b2b-a80c-651626d10938",
   "metadata": {},
   "outputs": [
    {
     "name": "stdout",
     "output_type": "stream",
     "text": [
      "[1. 1. 1. 1. 1. 1. 1. 1. 1. 1.]\n"
     ]
    }
   ],
   "source": [
    "#create an array with 10 ones\n",
    "thisa=ujwal.ones(10)\n",
    "print(thisa)"
   ]
  },
  {
   "cell_type": "code",
   "execution_count": 4,
   "id": "b9763d55-b82d-44f4-8d83-8a5dc26ac7c6",
   "metadata": {},
   "outputs": [
    {
     "name": "stdout",
     "output_type": "stream",
     "text": [
      "[5 5 5 5]\n"
     ]
    }
   ],
   "source": [
    "#creating an array with custom values that is filled\n",
    "ar3=ujwal.full((4),5)\n",
    "print(ar3)"
   ]
  },
  {
   "cell_type": "code",
   "execution_count": 6,
   "id": "97dc6515-5b86-444b-9243-9256e52d5bed",
   "metadata": {},
   "outputs": [
    {
     "name": "stdout",
     "output_type": "stream",
     "text": [
      "[0 1 2 3 4]\n",
      "[1 3 5 7]\n",
      "[-7 -5 -3 -1  1]\n",
      "[0.4  0.55 0.7  0.85]\n"
     ]
    }
   ],
   "source": [
    "#array with range\n",
    "first=ujwal.arange(0,5,1)\n",
    "print(first)\n",
    "sec=ujwal.arange(1,8,2)\n",
    "print(sec)\n",
    "thi=ujwal.arange(-7,2,2)\n",
    "print(thi)\n",
    "fou=ujwal.arange(0.4,1,0.15)\n",
    "print(fou)"
   ]
  },
  {
   "cell_type": "code",
   "execution_count": 7,
   "id": "65e34156-604b-4e6b-a46f-ceeb9cf6d48c",
   "metadata": {},
   "outputs": [
    {
     "name": "stdout",
     "output_type": "stream",
     "text": [
      "[4.30327434 1.5661954  3.57886518 0.45725074 1.52576629 0.72155775\n",
      " 0.88253618 2.95794939 0.48287472]\n"
     ]
    }
   ],
   "source": [
    "#creating an array of random numbers\n",
    "a4=ujwal.random.rand(9)*5\n",
    "print(a4)\n"
   ]
  },
  {
   "cell_type": "code",
   "execution_count": 8,
   "id": "82580d4f-2509-4178-bb60-009731909f1f",
   "metadata": {},
   "outputs": [
    {
     "name": "stdout",
     "output_type": "stream",
     "text": [
      "[ 1.   2.5  4.   5.5  7.   8.5 10. ]\n"
     ]
    }
   ],
   "source": [
    "# creating an array with the same difference between elements\n",
    "a5=ujwal.linspace(1,10,7)\n",
    "print(a5)"
   ]
  },
  {
   "cell_type": "code",
   "execution_count": 9,
   "id": "7ba377fb-512a-43d1-a48c-94d218cc0b40",
   "metadata": {},
   "outputs": [
    {
     "name": "stdout",
     "output_type": "stream",
     "text": [
      "[[1 2 3 4]\n",
      " [5 6 7 8]]\n"
     ]
    }
   ],
   "source": [
    "#creating a 2d array manually\n",
    "a6=array1 = ujwal.array([[1, 2, 3, 4], [5, 6, 7, 8]])\n",
    "print(a6)"
   ]
  },
  {
   "cell_type": "code",
   "execution_count": 10,
   "id": "9ac867ce-2602-431e-9a8d-dc4127eb879d",
   "metadata": {},
   "outputs": [
    {
     "name": "stdout",
     "output_type": "stream",
     "text": [
      "[[0. 0. 0.]\n",
      " [0. 0. 0.]]\n"
     ]
    }
   ],
   "source": [
    "#creating a 2d array full of 0s\n",
    "a7=ujwal.zeros((2, 3))\n",
    "print(a7)"
   ]
  },
  {
   "cell_type": "code",
   "execution_count": 3,
   "id": "306c2de5-b626-4df5-b231-6e834a8cf83d",
   "metadata": {},
   "outputs": [
    {
     "name": "stdout",
     "output_type": "stream",
     "text": [
      "[[[0. 0. 0.]\n",
      "  [0. 0. 0.]\n",
      "  [0. 0. 0.]]\n",
      "\n",
      " [[0. 0. 0.]\n",
      "  [0. 0. 0.]\n",
      "  [0. 0. 0.]]\n",
      "\n",
      " [[0. 0. 0.]\n",
      "  [0. 0. 0.]\n",
      "  [0. 0. 0.]]\n",
      "\n",
      " [[0. 0. 0.]\n",
      "  [0. 0. 0.]\n",
      "  [0. 0. 0.]]\n",
      "\n",
      " [[0. 0. 0.]\n",
      "  [0. 0. 0.]\n",
      "  [0. 0. 0.]]\n",
      "\n",
      " [[0. 0. 0.]\n",
      "  [0. 0. 0.]\n",
      "  [0. 0. 0.]]]\n"
     ]
    }
   ],
   "source": [
    "#creating a 3d array full of 0\n",
    "import numpy as ujwal\n",
    "a8=ujwal.zeros((6,3,3))\n",
    "print(a8)"
   ]
  },
  {
   "cell_type": "code",
   "execution_count": 13,
   "id": "1c1d541d-ac60-4b90-a1b7-0f07edd6947c",
   "metadata": {},
   "outputs": [
    {
     "name": "stdout",
     "output_type": "stream",
     "text": [
      "[[9 9 9 9 9]\n",
      " [9 9 9 9 9]\n",
      " [9 9 9 9 9]\n",
      " [9 9 9 9 9]\n",
      " [9 9 9 9 9]]\n",
      "[[[0.623986   0.12896306]\n",
      "  [0.85910695 0.68158202]]\n",
      "\n",
      " [[0.86400881 0.18501546]\n",
      "  [0.39480339 0.18721189]]]\n"
     ]
    }
   ],
   "source": [
    "a9=ujwal.full((5,5),9)\n",
    "print(a9)\n",
    "\n",
    "a10 = ujwal.random.rand(2, 2, 2)\n",
    "print(a10)"
   ]
  },
  {
   "cell_type": "code",
   "execution_count": 14,
   "id": "3dfc2e39-a8eb-4886-b9d2-15914740d236",
   "metadata": {},
   "outputs": [
    {
     "name": "stdout",
     "output_type": "stream",
     "text": [
      "3\n"
     ]
    }
   ],
   "source": [
    "#using ndim property\n",
    "print(a10.ndim)"
   ]
  },
  {
   "cell_type": "code",
   "execution_count": 15,
   "id": "eddb88d9-2ed5-464d-89d8-2db375e9521d",
   "metadata": {},
   "outputs": [
    {
     "name": "stdout",
     "output_type": "stream",
     "text": [
      "8\n"
     ]
    }
   ],
   "source": [
    "#size property \n",
    "print(a10.size)"
   ]
  },
  {
   "cell_type": "code",
   "execution_count": 16,
   "id": "95eb5587-68d8-433d-938b-38392f12c280",
   "metadata": {},
   "outputs": [
    {
     "name": "stdout",
     "output_type": "stream",
     "text": [
      "float64\n"
     ]
    }
   ],
   "source": [
    "#datatype property\n",
    "print(a10.dtype)"
   ]
  },
  {
   "cell_type": "code",
   "execution_count": 17,
   "id": "a92df796-247b-4dec-b3e7-c030cb459b7d",
   "metadata": {},
   "outputs": [
    {
     "name": "stdout",
     "output_type": "stream",
     "text": [
      "(2, 2, 2)\n"
     ]
    }
   ],
   "source": [
    "#shape property\n",
    "print(a10.shape)"
   ]
  },
  {
   "cell_type": "code",
   "execution_count": 18,
   "id": "de982dd4-f359-4523-9638-2611288c5d0d",
   "metadata": {},
   "outputs": [
    {
     "name": "stdout",
     "output_type": "stream",
     "text": [
      "8\n"
     ]
    }
   ],
   "source": [
    "#itemsize property\n",
    "print(a10.itemsize)"
   ]
  },
  {
   "cell_type": "code",
   "execution_count": 19,
   "id": "1cde2e20-c2cb-4ee1-bafd-0658b6f18749",
   "metadata": {},
   "outputs": [
    {
     "name": "stdout",
     "output_type": "stream",
     "text": [
      "<built-in method transpose of numpy.ndarray object at 0x782547540e70>\n"
     ]
    }
   ],
   "source": [
    "#transpose property\n",
    "print(a10.transpose)"
   ]
  },
  {
   "cell_type": "code",
   "execution_count": null,
   "id": "44913fc2-93b0-4c54-8fd0-ccd529589075",
   "metadata": {},
   "outputs": [],
   "source": []
  }
 ],
 "metadata": {
  "kernelspec": {
   "display_name": "Python 3 (ipykernel)",
   "language": "python",
   "name": "python3"
  },
  "language_info": {
   "codemirror_mode": {
    "name": "ipython",
    "version": 3
   },
   "file_extension": ".py",
   "mimetype": "text/x-python",
   "name": "python",
   "nbconvert_exporter": "python",
   "pygments_lexer": "ipython3",
   "version": "3.12.7"
  }
 },
 "nbformat": 4,
 "nbformat_minor": 5
}
